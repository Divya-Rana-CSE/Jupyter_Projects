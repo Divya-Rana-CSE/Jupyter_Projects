{
 "cells": [
  {
   "cell_type": "code",
   "execution_count": 3,
   "id": "842b3ee0-1ee5-4dea-93e5-fe944dce0805",
   "metadata": {},
   "outputs": [
    {
     "name": "stdin",
     "output_type": "stream",
     "text": [
      "Enter First Number: 2\n"
     ]
    },
    {
     "ename": "NameError",
     "evalue": "name 'operations' is not defined",
     "output_type": "error",
     "traceback": [
      "\u001b[1;31m---------------------------------------------------------------------------\u001b[0m",
      "\u001b[1;31mNameError\u001b[0m                                 Traceback (most recent call last)",
      "Cell \u001b[1;32mIn[3], line 29\u001b[0m\n\u001b[0;32m     21\u001b[0m     operations \u001b[38;5;241m=\u001b[39m {\n\u001b[0;32m     22\u001b[0m \n\u001b[0;32m     23\u001b[0m     \u001b[38;5;124m\"\u001b[39m\u001b[38;5;124m+\u001b[39m\u001b[38;5;124m\"\u001b[39m : add,\n\u001b[1;32m   (...)\u001b[0m\n\u001b[0;32m     26\u001b[0m     \u001b[38;5;124m\"\u001b[39m\u001b[38;5;124m//\u001b[39m\u001b[38;5;124m\"\u001b[39m : divide\n\u001b[0;32m     27\u001b[0m }\n\u001b[0;32m     28\u001b[0m num1 \u001b[38;5;241m=\u001b[39m \u001b[38;5;28mint\u001b[39m(\u001b[38;5;28minput\u001b[39m(\u001b[38;5;124m\"\u001b[39m\u001b[38;5;124mEnter First Number:\u001b[39m\u001b[38;5;124m\"\u001b[39m))\n\u001b[1;32m---> 29\u001b[0m \u001b[38;5;28;01mfor\u001b[39;00m i \u001b[38;5;129;01min\u001b[39;00m operations:\n\u001b[0;32m     30\u001b[0m     \u001b[38;5;28mprint\u001b[39m(i)\n\u001b[0;32m     31\u001b[0m \u001b[38;5;28mprint\u001b[39m(\u001b[38;5;124m\"\u001b[39m\u001b[38;5;124mpick any operation symbol\u001b[39m\u001b[38;5;124m\"\u001b[39m)\n",
      "\u001b[1;31mNameError\u001b[0m: name 'operations' is not defined"
     ]
    }
   ],
   "source": [
    "def add(X,Y):\n",
    "    return X+Y\n",
    "\n",
    "def subtract(X,Y):\n",
    "    return X-Y\n",
    "\n",
    "def multiply(X,Y):\n",
    "    return X*Y\n",
    "\n",
    "def divide(X,Y):\n",
    "    return X//Y\n",
    "\n",
    "# operations = {\n",
    "\n",
    "#     \"+\" : add,\n",
    "#     \"-\" : subtract,\n",
    "#     \"*\" : multiply,\n",
    "#     \"/\" : divide\n",
    "# }\n",
    "def calculator():\n",
    "    operations = {\n",
    "\n",
    "    \"+\" : add,\n",
    "    \"-\" : subtract,\n",
    "    \"*\" : multiply,\n",
    "    \"//\" : divide\n",
    "}\n",
    "num1 = int(input(\"Enter First Number:\"))\n",
    "for i in operations:\n",
    "    print(i)\n",
    "print(\"pick any operation symbol\")\n",
    "operation_symbol = input()\n",
    "num2 = int(input(\"enter another number \"))\n",
    "function_calculator = operations[operation_symbol]\n",
    "answer = function_calculator(num1, num2)\n",
    "print(f\"answer is: {answer}\")\n",
    "\n",
    "calculator()\n",
    "    "
   ]
  },
  {
   "cell_type": "code",
   "execution_count": null,
   "id": "66213c5d-6ea4-4f73-a8d6-e990e41e4fea",
   "metadata": {},
   "outputs": [],
   "source": []
  }
 ],
 "metadata": {
  "kernelspec": {
   "display_name": "Python 3 (ipykernel)",
   "language": "python",
   "name": "python3"
  },
  "language_info": {
   "codemirror_mode": {
    "name": "ipython",
    "version": 3
   },
   "file_extension": ".py",
   "mimetype": "text/x-python",
   "name": "python",
   "nbconvert_exporter": "python",
   "pygments_lexer": "ipython3",
   "version": "3.11.7"
  }
 },
 "nbformat": 4,
 "nbformat_minor": 5
}
