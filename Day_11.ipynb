{
 "cells": [
  {
   "cell_type": "code",
   "execution_count": 1,
   "id": "20b0c4f6-a7fa-4e03-9ed5-d364991eba78",
   "metadata": {},
   "outputs": [],
   "source": [
    "import numpy as np\n",
    "from numpy import random "
   ]
  },
  {
   "cell_type": "code",
   "execution_count": 2,
   "id": "2f053aca-144e-48a7-8d23-7ce8a5b61000",
   "metadata": {},
   "outputs": [
    {
     "name": "stdout",
     "output_type": "stream",
     "text": [
      "[[0.01045549 0.09933627 0.75977412 0.04228894]\n",
      " [0.72495291 0.06544507 0.38897324 0.48379061]\n",
      " [0.54341811 0.44129351 0.49105543 0.23956786]]\n"
     ]
    }
   ],
   "source": [
    "# generating 2-d float random array\n",
    "float_array = random.rand(3,4)\n",
    "print(float_array)"
   ]
  },
  {
   "cell_type": "code",
   "execution_count": 3,
   "id": "b1796386-8fcf-4f77-bc35-e809e3f8df7a",
   "metadata": {},
   "outputs": [
    {
     "name": "stdout",
     "output_type": "stream",
     "text": [
      "5\n"
     ]
    }
   ],
   "source": [
    "# selecting a random number from given array\n",
    "rand_num = random.choice([2,3,4,5,7,8])\n",
    "print(rand_num)"
   ]
  },
  {
   "cell_type": "code",
   "execution_count": 4,
   "id": "36369a83-0459-43a6-b5a9-45eabf0bcb19",
   "metadata": {},
   "outputs": [
    {
     "name": "stdout",
     "output_type": "stream",
     "text": [
      "pink\n"
     ]
    }
   ],
   "source": [
    "colors = ['red', ' green' , 'blue' ,'white' , 'black' , 'yellow' , 'pink', 'violet']\n",
    "select_color = random.choice(colors)\n",
    "print(select_color)"
   ]
  },
  {
   "cell_type": "code",
   "execution_count": 5,
   "id": "4f4377db-c370-4376-8610-83c2370a739a",
   "metadata": {},
   "outputs": [
    {
     "name": "stdout",
     "output_type": "stream",
     "text": [
      "[[0 5 1]\n",
      " [0 2 9]\n",
      " [1 2 3]\n",
      " [2 2 1]\n",
      " [0 0 0]]\n"
     ]
    }
   ],
   "source": [
    "security_breaches = np.array([[0,5,1],[0,2,9],[1,2,3],[2,2,1],[0,0,0]])\n",
    "print(security_breaches)"
   ]
  },
  {
   "cell_type": "code",
   "execution_count": 6,
   "id": "30552d3a-e8cf-4658-8452-bb3d149577d8",
   "metadata": {},
   "outputs": [
    {
     "name": "stdout",
     "output_type": "stream",
     "text": [
      "28\n"
     ]
    }
   ],
   "source": [
    "print(security_breaches.sum())"
   ]
  },
  {
   "cell_type": "code",
   "execution_count": 7,
   "id": "ee29dc1b-8272-492c-a6bd-26c9149f16f0",
   "metadata": {},
   "outputs": [
    {
     "name": "stdout",
     "output_type": "stream",
     "text": [
      "[[ 6]\n",
      " [11]\n",
      " [ 6]\n",
      " [ 5]\n",
      " [ 0]]\n"
     ]
    }
   ],
   "source": [
    "print(security_breaches.sum(axis=1,keepdims = True))"
   ]
  },
  {
   "cell_type": "markdown",
   "id": "c5cfb05e-64ff-413a-b7dd-f821350a9fb2",
   "metadata": {},
   "source": [
    "## Multipling by a scalar"
   ]
  },
  {
   "cell_type": "code",
   "execution_count": 12,
   "id": "587aa422-6da7-4993-9448-3775095e6b6f",
   "metadata": {},
   "outputs": [],
   "source": [
    "array = np.array([[1,2,3],[4,5,6]])\n",
    "array*3\n",
    "array1 = np.array([[1,2,3],[4,5,6]])"
   ]
  },
  {
   "cell_type": "code",
   "execution_count": 13,
   "id": "07b76609-43ba-46e8-aa65-e0cc43cc4e3d",
   "metadata": {},
   "outputs": [
    {
     "data": {
      "text/plain": [
       "array([[ 1,  4,  9],\n",
       "       [16, 25, 36]])"
      ]
     },
     "execution_count": 13,
     "metadata": {},
     "output_type": "execute_result"
    }
   ],
   "source": [
    "array*array1"
   ]
  },
  {
   "cell_type": "markdown",
   "id": "e090ab06-03d7-4fdd-8826-f4e05ab8e91b",
   "metadata": {},
   "source": [
    "# Not just for math"
   ]
  },
  {
   "cell_type": "code",
   "execution_count": 14,
   "id": "675ff7d5-21da-43a3-a08e-ec34e6adf586",
   "metadata": {},
   "outputs": [
    {
     "data": {
      "text/plain": [
       "array([[False, False,  True],\n",
       "       [ True,  True,  True]])"
      ]
     },
     "execution_count": 14,
     "metadata": {},
     "output_type": "execute_result"
    }
   ],
   "source": [
    "array = np.array([[1,2,3],[4,5,6]])\n",
    "array > 2"
   ]
  },
  {
   "cell_type": "markdown",
   "id": "aeb256db-7af6-4aea-aa44-442c100bc0a8",
   "metadata": {},
   "source": [
    "# Vector Python Code!"
   ]
  },
  {
   "cell_type": "code",
   "execution_count": 15,
   "id": "7f6c49c6-eca4-4053-92c0-e2a0423da980",
   "metadata": {},
   "outputs": [
    {
     "data": {
      "text/plain": [
       "True"
      ]
     },
     "execution_count": 15,
     "metadata": {},
     "output_type": "execute_result"
    }
   ],
   "source": [
    "array = np.array([\"Numpy\", \"is\" , \"awesome\"])\n",
    "len(array) > 2"
   ]
  },
  {
   "cell_type": "code",
   "execution_count": null,
   "id": "24b48aa5-6641-4696-8fe2-6dfef8bcf78a",
   "metadata": {},
   "outputs": [],
   "source": []
  }
 ],
 "metadata": {
  "kernelspec": {
   "display_name": "Python 3 (ipykernel)",
   "language": "python",
   "name": "python3"
  },
  "language_info": {
   "codemirror_mode": {
    "name": "ipython",
    "version": 3
   },
   "file_extension": ".py",
   "mimetype": "text/x-python",
   "name": "python",
   "nbconvert_exporter": "python",
   "pygments_lexer": "ipython3",
   "version": "3.11.7"
  }
 },
 "nbformat": 4,
 "nbformat_minor": 5
}
