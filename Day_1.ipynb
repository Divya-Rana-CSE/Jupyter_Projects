{
 "cells": [
  {
   "cell_type": "code",
   "execution_count": 164,
   "id": "e56c9dae-7dd6-475a-9f15-96d66ebc12cc",
   "metadata": {},
   "outputs": [
    {
     "name": "stdout",
     "output_type": "stream",
     "text": [
      "welcome\n"
     ]
    }
   ],
   "source": [
    "print(\"welcome\")"
   ]
  },
  {
   "cell_type": "code",
   "execution_count": 103,
   "id": "56bc5d5a-513e-4781-a887-50b50484e60f",
   "metadata": {},
   "outputs": [
    {
     "data": {
      "text/plain": [
       "\u001b[1;31mSignature:\u001b[0m \u001b[0mprint\u001b[0m\u001b[1;33m(\u001b[0m\u001b[1;33m*\u001b[0m\u001b[0margs\u001b[0m\u001b[1;33m,\u001b[0m \u001b[0msep\u001b[0m\u001b[1;33m=\u001b[0m\u001b[1;34m' '\u001b[0m\u001b[1;33m,\u001b[0m \u001b[0mend\u001b[0m\u001b[1;33m=\u001b[0m\u001b[1;34m'\\n'\u001b[0m\u001b[1;33m,\u001b[0m \u001b[0mfile\u001b[0m\u001b[1;33m=\u001b[0m\u001b[1;32mNone\u001b[0m\u001b[1;33m,\u001b[0m \u001b[0mflush\u001b[0m\u001b[1;33m=\u001b[0m\u001b[1;32mFalse\u001b[0m\u001b[1;33m)\u001b[0m\u001b[1;33m\u001b[0m\u001b[1;33m\u001b[0m\u001b[0m\n",
       "\u001b[1;31mDocstring:\u001b[0m\n",
       "Prints the values to a stream, or to sys.stdout by default.\n",
       "\n",
       "sep\n",
       "  string inserted between values, default a space.\n",
       "end\n",
       "  string appended after the last value, default a newline.\n",
       "file\n",
       "  a file-like object (stream); defaults to the current sys.stdout.\n",
       "flush\n",
       "  whether to forcibly flush the stream.\n",
       "\u001b[1;31mType:\u001b[0m      builtin_function_or_method"
      ]
     },
     "metadata": {},
     "output_type": "display_data"
    }
   ],
   "source": [
    "print?"
   ]
  },
  {
   "cell_type": "code",
   "execution_count": 106,
   "id": "593a8360-e976-4c7c-8ec2-61aff35f4e75",
   "metadata": {},
   "outputs": [
    {
     "name": "stdout",
     "output_type": "stream",
     "text": [
      "10,20,30\n"
     ]
    }
   ],
   "source": [
    "print(10,20,30,sep=\",\")"
   ]
  },
  {
   "cell_type": "code",
   "execution_count": 165,
   "id": "4d525d21-74b2-47da-abb4-83844908103a",
   "metadata": {},
   "outputs": [
    {
     "name": "stdout",
     "output_type": "stream",
     "text": [
      "welcome to\n",
      "summer internship\n"
     ]
    }
   ],
   "source": [
    "print(\"welcome to\")\n",
    "print(\"summer internship\")"
   ]
  },
  {
   "cell_type": "code",
   "execution_count": 104,
   "id": "71620022-010f-4af2-8fee-657848c81fb4",
   "metadata": {},
   "outputs": [
    {
     "name": "stdout",
     "output_type": "stream",
     "text": [
      "hi\n"
     ]
    }
   ],
   "source": [
    "print(\"hi\")"
   ]
  },
  {
   "cell_type": "code",
   "execution_count": 105,
   "id": "ae94c207-1495-49dc-99b2-2d29f677b84c",
   "metadata": {},
   "outputs": [
    {
     "name": "stdout",
     "output_type": "stream",
     "text": [
      "divya shaina yogita\n"
     ]
    }
   ],
   "source": [
    "print(\"divya\",\"shaina\",\"yogita\")"
   ]
  },
  {
   "cell_type": "code",
   "execution_count": 108,
   "id": "2c882713-b74c-4053-a171-fc664a7438f9",
   "metadata": {},
   "outputs": [
    {
     "name": "stdout",
     "output_type": "stream",
     "text": [
      "welcome in summer internship\n"
     ]
    }
   ],
   "source": [
    "print(\"welcome in\",end=\" \")\n",
    "print(\"summer internship\")"
   ]
  },
  {
   "cell_type": "code",
   "execution_count": 109,
   "id": "fb6ea0c4-ce42-49c3-84bf-4c3d58f1958c",
   "metadata": {},
   "outputs": [
    {
     "name": "stdout",
     "output_type": "stream",
     "text": [
      "9\n"
     ]
    }
   ],
   "source": [
    "print(9)"
   ]
  },
  {
   "cell_type": "code",
   "execution_count": 110,
   "id": "06cd3d68-ad4d-4487-8ee6-5d51c0189432",
   "metadata": {},
   "outputs": [
    {
     "data": {
      "text/plain": [
       "int"
      ]
     },
     "execution_count": 110,
     "metadata": {},
     "output_type": "execute_result"
    }
   ],
   "source": [
    "type(9)"
   ]
  },
  {
   "cell_type": "code",
   "execution_count": 111,
   "id": "452b43b6-fe72-4ab2-b325-c918b2ca7b86",
   "metadata": {},
   "outputs": [
    {
     "name": "stdout",
     "output_type": "stream",
     "text": [
      "F\n"
     ]
    }
   ],
   "source": [
    "print(\"F\")"
   ]
  },
  {
   "cell_type": "code",
   "execution_count": 112,
   "id": "09d74461-e984-4d6d-be36-db3613e50b5b",
   "metadata": {},
   "outputs": [
    {
     "data": {
      "text/plain": [
       "str"
      ]
     },
     "execution_count": 112,
     "metadata": {},
     "output_type": "execute_result"
    }
   ],
   "source": [
    "type(\"F\")"
   ]
  },
  {
   "cell_type": "code",
   "execution_count": 113,
   "id": "928adb9b-4182-480c-949a-14c8b6b385d1",
   "metadata": {},
   "outputs": [
    {
     "data": {
      "text/plain": [
       "builtin_function_or_method"
      ]
     },
     "execution_count": 113,
     "metadata": {},
     "output_type": "execute_result"
    }
   ],
   "source": [
    "type(print)"
   ]
  },
  {
   "cell_type": "code",
   "execution_count": 114,
   "id": "61a98e34-2d5d-4595-a02c-d23f8a1064a7",
   "metadata": {},
   "outputs": [
    {
     "name": "stdout",
     "output_type": "stream",
     "text": [
      "Hellod\n"
     ]
    }
   ],
   "source": [
    "print(\"Hello\"+\"d\")"
   ]
  },
  {
   "cell_type": "code",
   "execution_count": 115,
   "id": "cd4be7e7-6aad-455d-ae8f-fb39c05c3ea1",
   "metadata": {},
   "outputs": [
    {
     "name": "stdout",
     "output_type": "stream",
     "text": [
      "hello9\n"
     ]
    }
   ],
   "source": [
    "print(\"hello\"+\"9\")"
   ]
  },
  {
   "cell_type": "code",
   "execution_count": 116,
   "id": "13bb26e3-cf40-44c3-9916-137aedf4bfda",
   "metadata": {},
   "outputs": [
    {
     "name": "stdout",
     "output_type": "stream",
     "text": [
      "hellohellohellohellohellohellohellohellohellohello"
     ]
    }
   ],
   "source": [
    "print(\"hello\"*10,end=\"\")"
   ]
  },
  {
   "cell_type": "code",
   "execution_count": 117,
   "id": "2d2cf4b9-dc47-4230-86ec-136402c62c3e",
   "metadata": {},
   "outputs": [],
   "source": [
    "#Variable"
   ]
  },
  {
   "cell_type": "code",
   "execution_count": 118,
   "id": "451d9f24-97a8-40ed-8f88-88811d996298",
   "metadata": {},
   "outputs": [
    {
     "data": {
      "text/plain": [
       "'VARIABLE'"
      ]
     },
     "execution_count": 118,
     "metadata": {},
     "output_type": "execute_result"
    }
   ],
   "source": [
    "\"\"\"VARIABLE\"\"\""
   ]
  },
  {
   "cell_type": "code",
   "execution_count": 119,
   "id": "11c6bfc5-8564-4507-af75-486652780d0b",
   "metadata": {},
   "outputs": [
    {
     "data": {
      "text/plain": [
       "'variable'"
      ]
     },
     "execution_count": 119,
     "metadata": {},
     "output_type": "execute_result"
    }
   ],
   "source": [
    "'''variable'''"
   ]
  },
  {
   "cell_type": "code",
   "execution_count": 120,
   "id": "1a55f82b-2626-4e64-99f0-4a7af38e076e",
   "metadata": {},
   "outputs": [
    {
     "data": {
      "text/plain": [
       "'This is multi \\nline \\ncomment'"
      ]
     },
     "execution_count": 120,
     "metadata": {},
     "output_type": "execute_result"
    }
   ],
   "source": [
    "'''This is multi \n",
    "line \n",
    "comment'''"
   ]
  },
  {
   "cell_type": "code",
   "execution_count": 121,
   "id": "71ff770a-b4c1-429c-a96e-39fe28790f84",
   "metadata": {},
   "outputs": [
    {
     "data": {
      "text/plain": [
       "\u001b[1;31mSignature:\u001b[0m \u001b[0mprint\u001b[0m\u001b[1;33m(\u001b[0m\u001b[1;33m*\u001b[0m\u001b[0margs\u001b[0m\u001b[1;33m,\u001b[0m \u001b[0msep\u001b[0m\u001b[1;33m=\u001b[0m\u001b[1;34m' '\u001b[0m\u001b[1;33m,\u001b[0m \u001b[0mend\u001b[0m\u001b[1;33m=\u001b[0m\u001b[1;34m'\\n'\u001b[0m\u001b[1;33m,\u001b[0m \u001b[0mfile\u001b[0m\u001b[1;33m=\u001b[0m\u001b[1;32mNone\u001b[0m\u001b[1;33m,\u001b[0m \u001b[0mflush\u001b[0m\u001b[1;33m=\u001b[0m\u001b[1;32mFalse\u001b[0m\u001b[1;33m)\u001b[0m\u001b[1;33m\u001b[0m\u001b[1;33m\u001b[0m\u001b[0m\n",
       "\u001b[1;31mDocstring:\u001b[0m\n",
       "Prints the values to a stream, or to sys.stdout by default.\n",
       "\n",
       "sep\n",
       "  string inserted between values, default a space.\n",
       "end\n",
       "  string appended after the last value, default a newline.\n",
       "file\n",
       "  a file-like object (stream); defaults to the current sys.stdout.\n",
       "flush\n",
       "  whether to forcibly flush the stream.\n",
       "\u001b[1;31mType:\u001b[0m      builtin_function_or_method"
      ]
     },
     "metadata": {},
     "output_type": "display_data"
    }
   ],
   "source": [
    "print?"
   ]
  },
  {
   "cell_type": "code",
   "execution_count": 122,
   "id": "dbb916b5-e885-4f51-8670-95579dda105b",
   "metadata": {},
   "outputs": [],
   "source": [
    "x=10"
   ]
  },
  {
   "cell_type": "code",
   "execution_count": 123,
   "id": "3a8b5e96-7a4e-4094-ab3f-cb353edf05c9",
   "metadata": {},
   "outputs": [
    {
     "name": "stdout",
     "output_type": "stream",
     "text": [
      "10\n"
     ]
    }
   ],
   "source": [
    "print(x)"
   ]
  },
  {
   "cell_type": "code",
   "execution_count": 124,
   "id": "62b8f9b1-6e18-4915-8f4a-cb51d2196ed3",
   "metadata": {},
   "outputs": [],
   "source": [
    "x=15"
   ]
  },
  {
   "cell_type": "code",
   "execution_count": 125,
   "id": "7bea1b62-bd5c-4861-b1c1-5f1a4c8fa5ba",
   "metadata": {},
   "outputs": [
    {
     "name": "stdout",
     "output_type": "stream",
     "text": [
      "15\n"
     ]
    }
   ],
   "source": [
    "print(x)"
   ]
  },
  {
   "cell_type": "code",
   "execution_count": 126,
   "id": "76b22f09-fc84-4319-a06f-38de338837d4",
   "metadata": {},
   "outputs": [],
   "source": [
    "num_1 = 14"
   ]
  },
  {
   "cell_type": "code",
   "execution_count": 127,
   "id": "2ab24b2e-ae10-40f9-8cd6-9a071d36a03a",
   "metadata": {},
   "outputs": [],
   "source": [
    "num_2= 10"
   ]
  },
  {
   "cell_type": "code",
   "execution_count": 128,
   "id": "7cc9242a-6891-4035-aa70-47da1c817b6d",
   "metadata": {},
   "outputs": [
    {
     "name": "stdout",
     "output_type": "stream",
     "text": [
      "14 10\n"
     ]
    }
   ],
   "source": [
    "print(num_1,num_2)"
   ]
  },
  {
   "cell_type": "code",
   "execution_count": 129,
   "id": "576a8b1d-eb6d-4679-b545-015378cc560f",
   "metadata": {},
   "outputs": [
    {
     "name": "stdout",
     "output_type": "stream",
     "text": [
      "24\n"
     ]
    }
   ],
   "source": [
    "print(num_1+num_2)"
   ]
  },
  {
   "cell_type": "code",
   "execution_count": 130,
   "id": "4edb61ed-48e4-4167-8107-38c0ac24c1db",
   "metadata": {},
   "outputs": [
    {
     "name": "stdout",
     "output_type": "stream",
     "text": [
      "1.4\n"
     ]
    }
   ],
   "source": [
    "print(num_1/num_2)"
   ]
  },
  {
   "cell_type": "code",
   "execution_count": 131,
   "id": "b76ec2e9-86e7-4138-9e71-bb93e8a472a3",
   "metadata": {},
   "outputs": [],
   "source": [
    "#10_num = 10"
   ]
  },
  {
   "cell_type": "code",
   "execution_count": 132,
   "id": "78cba389-4e68-4095-a48b-c7f489aff430",
   "metadata": {},
   "outputs": [],
   "source": [
    "_num =9"
   ]
  },
  {
   "cell_type": "code",
   "execution_count": 133,
   "id": "a1264771-ccf6-4234-b9f9-a9e741cee698",
   "metadata": {},
   "outputs": [],
   "source": [
    "#num# = 3"
   ]
  },
  {
   "cell_type": "code",
   "execution_count": 134,
   "id": "e66a531b-0d71-4fc4-8a87-c5ba48c9a7e1",
   "metadata": {},
   "outputs": [
    {
     "name": "stdout",
     "output_type": "stream",
     "text": [
      "divya Rana\n"
     ]
    }
   ],
   "source": [
    "first_name = \"divya\"\n",
    "last_name = \"Rana\"\n",
    "print(first_name, last_name)  #standard practice"
   ]
  },
  {
   "cell_type": "code",
   "execution_count": 135,
   "id": "d0d0d088-f59e-401e-ba23-be16c99e872c",
   "metadata": {},
   "outputs": [],
   "source": [
    "a=10.5 "
   ]
  },
  {
   "cell_type": "code",
   "execution_count": 136,
   "id": "2c754fae-38ef-49f0-9a77-faa0b4f6fe47",
   "metadata": {},
   "outputs": [
    {
     "data": {
      "text/plain": [
       "float"
      ]
     },
     "execution_count": 136,
     "metadata": {},
     "output_type": "execute_result"
    }
   ],
   "source": [
    "type(10.5)"
   ]
  },
  {
   "cell_type": "code",
   "execution_count": 137,
   "id": "57d4280d-d070-477b-9b80-02784ad6a60e",
   "metadata": {},
   "outputs": [
    {
     "data": {
      "text/plain": [
       "\u001b[1;31mInit signature:\u001b[0m \u001b[0mtype\u001b[0m\u001b[1;33m(\u001b[0m\u001b[0mself\u001b[0m\u001b[1;33m,\u001b[0m \u001b[1;33m/\u001b[0m\u001b[1;33m,\u001b[0m \u001b[1;33m*\u001b[0m\u001b[0margs\u001b[0m\u001b[1;33m,\u001b[0m \u001b[1;33m**\u001b[0m\u001b[0mkwargs\u001b[0m\u001b[1;33m)\u001b[0m\u001b[1;33m\u001b[0m\u001b[1;33m\u001b[0m\u001b[0m\n",
       "\u001b[1;31mDocstring:\u001b[0m     \n",
       "type(object) -> the object's type\n",
       "type(name, bases, dict, **kwds) -> a new type\n",
       "\u001b[1;31mType:\u001b[0m           type\n",
       "\u001b[1;31mSubclasses:\u001b[0m     ABCMeta, EnumType, _AnyMeta, NamedTupleMeta, _TypedDictMeta, _DeprecatedType, _ABC, MetaHasDescriptors, PyCStructType, UnionType, ..."
      ]
     },
     "metadata": {},
     "output_type": "display_data"
    }
   ],
   "source": [
    "type?"
   ]
  },
  {
   "cell_type": "code",
   "execution_count": 138,
   "id": "1cd7ea35-2b1a-4778-bd52-4e6373353e9d",
   "metadata": {},
   "outputs": [],
   "source": [
    "b = 20.5"
   ]
  },
  {
   "cell_type": "code",
   "execution_count": 139,
   "id": "1cf7fb6d-67d1-44bc-8ca5-12eb07688b32",
   "metadata": {},
   "outputs": [
    {
     "name": "stdout",
     "output_type": "stream",
     "text": [
      "31.0\n"
     ]
    }
   ],
   "source": [
    "print(a+b)"
   ]
  },
  {
   "cell_type": "code",
   "execution_count": 140,
   "id": "71ef0ee7-2b20-40f3-9c27-abde7bb4bd9b",
   "metadata": {},
   "outputs": [],
   "source": [
    "a=b=c = 6"
   ]
  },
  {
   "cell_type": "code",
   "execution_count": 141,
   "id": "691099bd-b79e-4f08-aecf-04654935cc5a",
   "metadata": {},
   "outputs": [
    {
     "name": "stdout",
     "output_type": "stream",
     "text": [
      "6 6 6\n"
     ]
    }
   ],
   "source": [
    "print(a,b,c)"
   ]
  },
  {
   "cell_type": "code",
   "execution_count": 142,
   "id": "1d03d00d-d27c-45db-baec-c923c8ec83fb",
   "metadata": {},
   "outputs": [],
   "source": [
    "sum = a+b"
   ]
  },
  {
   "cell_type": "code",
   "execution_count": 143,
   "id": "097c228e-5de1-48a3-9ff9-01864da522c5",
   "metadata": {},
   "outputs": [
    {
     "data": {
      "text/plain": [
       "int"
      ]
     },
     "execution_count": 143,
     "metadata": {},
     "output_type": "execute_result"
    }
   ],
   "source": [
    "type(sum)"
   ]
  },
  {
   "cell_type": "code",
   "execution_count": 144,
   "id": "394d82af-e58a-4ef3-992f-4ae10814fe49",
   "metadata": {},
   "outputs": [],
   "source": [
    "dev = a/b"
   ]
  },
  {
   "cell_type": "code",
   "execution_count": 145,
   "id": "cf7a5704-c0b3-4b42-b773-95e59780410c",
   "metadata": {},
   "outputs": [
    {
     "name": "stdout",
     "output_type": "stream",
     "text": [
      "1.0\n"
     ]
    }
   ],
   "source": [
    "print(dev)"
   ]
  },
  {
   "cell_type": "code",
   "execution_count": 146,
   "id": "0abb4f03-0baa-46fb-93ef-3d43018f708e",
   "metadata": {},
   "outputs": [
    {
     "data": {
      "text/plain": [
       "float"
      ]
     },
     "execution_count": 146,
     "metadata": {},
     "output_type": "execute_result"
    }
   ],
   "source": [
    "type(dev)"
   ]
  },
  {
   "cell_type": "code",
   "execution_count": 147,
   "id": "bfc39fb2-aa2d-4bc8-b146-74fb514418f2",
   "metadata": {},
   "outputs": [
    {
     "name": "stdout",
     "output_type": "stream",
     "text": [
      "36\n"
     ]
    }
   ],
   "source": [
    "d = a*b\n",
    "print(d)"
   ]
  },
  {
   "cell_type": "code",
   "execution_count": 148,
   "id": "a56587a7-01aa-42ac-aca8-51cd9337a4a4",
   "metadata": {},
   "outputs": [
    {
     "data": {
      "text/plain": [
       "int"
      ]
     },
     "execution_count": 148,
     "metadata": {},
     "output_type": "execute_result"
    }
   ],
   "source": [
    "type(d)"
   ]
  },
  {
   "cell_type": "code",
   "execution_count": 149,
   "id": "8701883a-42f3-4df0-92e8-677bd8a3f6fd",
   "metadata": {},
   "outputs": [
    {
     "data": {
      "text/plain": [
       "int"
      ]
     },
     "execution_count": 149,
     "metadata": {},
     "output_type": "execute_result"
    }
   ],
   "source": [
    "type(a%b) # always int"
   ]
  },
  {
   "cell_type": "code",
   "execution_count": 150,
   "id": "ca52fd15-ebdb-479b-b619-080f8e50fc7c",
   "metadata": {},
   "outputs": [
    {
     "name": "stdout",
     "output_type": "stream",
     "text": [
      "False\n"
     ]
    }
   ],
   "source": [
    "print(a>10)"
   ]
  },
  {
   "cell_type": "code",
   "execution_count": 151,
   "id": "b9ef9732-6f20-43fa-b974-e325630b9a28",
   "metadata": {},
   "outputs": [
    {
     "data": {
      "text/plain": [
       "140714161325000"
      ]
     },
     "execution_count": 151,
     "metadata": {},
     "output_type": "execute_result"
    }
   ],
   "source": [
    "id(a)"
   ]
  },
  {
   "cell_type": "code",
   "execution_count": 152,
   "id": "c90b4fe4-b700-40c3-b619-164e01ea5efa",
   "metadata": {},
   "outputs": [
    {
     "data": {
      "text/plain": [
       "\u001b[1;31mSignature:\u001b[0m \u001b[0mid\u001b[0m\u001b[1;33m(\u001b[0m\u001b[0mobj\u001b[0m\u001b[1;33m,\u001b[0m \u001b[1;33m/\u001b[0m\u001b[1;33m)\u001b[0m\u001b[1;33m\u001b[0m\u001b[1;33m\u001b[0m\u001b[0m\n",
       "\u001b[1;31mDocstring:\u001b[0m\n",
       "Return the identity of an object.\n",
       "\n",
       "This is guaranteed to be unique among simultaneously existing objects.\n",
       "(CPython uses the object's memory address.)\n",
       "\u001b[1;31mType:\u001b[0m      builtin_function_or_method"
      ]
     },
     "metadata": {},
     "output_type": "display_data"
    }
   ],
   "source": [
    "id?"
   ]
  },
  {
   "cell_type": "code",
   "execution_count": 153,
   "id": "0662ff47-4f6f-4166-87a5-cca89d96364c",
   "metadata": {},
   "outputs": [],
   "source": [
    "X = True"
   ]
  },
  {
   "cell_type": "code",
   "execution_count": 154,
   "id": "5194e874-4bce-43d5-9913-b4519f613109",
   "metadata": {},
   "outputs": [
    {
     "name": "stdout",
     "output_type": "stream",
     "text": [
      "This is python's\n"
     ]
    }
   ],
   "source": [
    "print('This is python\\'s') #backslash ke badd jo bhi likhenge"
   ]
  },
  {
   "cell_type": "code",
   "execution_count": 155,
   "id": "a6231a72-e218-4336-8770-0699d15300f6",
   "metadata": {},
   "outputs": [
    {
     "name": "stdout",
     "output_type": "stream",
     "text": [
      "This is Divya's bag\n"
     ]
    }
   ],
   "source": [
    "print(\"This is Divya's bag\")"
   ]
  },
  {
   "cell_type": "code",
   "execution_count": 156,
   "id": "81cc76cb-385e-4638-bd9d-d8c5868fa064",
   "metadata": {},
   "outputs": [
    {
     "name": "stdout",
     "output_type": "stream",
     "text": [
      "This is Divya\"s bag\n"
     ]
    }
   ],
   "source": [
    "print(\"This is Divya\\\"s bag\")"
   ]
  },
  {
   "cell_type": "code",
   "execution_count": 157,
   "id": "9702024f-7e0e-48fe-b5ed-f4937a33a81e",
   "metadata": {},
   "outputs": [
    {
     "name": "stdin",
     "output_type": "stream",
     "text": [
      "Enter s number  8\n"
     ]
    },
    {
     "name": "stdout",
     "output_type": "stream",
     "text": [
      "13\n"
     ]
    }
   ],
   "source": [
    "x  = int(input(\"Enter s number \")) #input value by defualt is a string \n",
    "#type conversion krna hoga\n",
    "print(x+5)"
   ]
  },
  {
   "cell_type": "code",
   "execution_count": 163,
   "id": "49a7e01c-5584-4402-8f2d-a2f87bc2f5fe",
   "metadata": {},
   "outputs": [
    {
     "name": "stdin",
     "output_type": "stream",
     "text": [
      "Enter a number 5\n",
      "Enter 2nd Number 3\n"
     ]
    },
    {
     "name": "stdout",
     "output_type": "stream",
     "text": [
      "sum of both numbers =  8\n"
     ]
    }
   ],
   "source": [
    "y = int(input(\"Enter a number\"))\n",
    "# print(y+10)\n",
    "z = int(input(\"Enter 2nd Number\"))\n",
    "print(\"sum of both numbers = \",y+z)"
   ]
  },
  {
   "cell_type": "code",
   "execution_count": null,
   "id": "5fdd8b30-3096-4d1e-b11e-cc344d7e7320",
   "metadata": {},
   "outputs": [],
   "source": [
    "x = "
   ]
  }
 ],
 "metadata": {
  "kernelspec": {
   "display_name": "Python 3 (ipykernel)",
   "language": "python",
   "name": "python3"
  },
  "language_info": {
   "codemirror_mode": {
    "name": "ipython",
    "version": 3
   },
   "file_extension": ".py",
   "mimetype": "text/x-python",
   "name": "python",
   "nbconvert_exporter": "python",
   "pygments_lexer": "ipython3",
   "version": "3.11.7"
  }
 },
 "nbformat": 4,
 "nbformat_minor": 5
}
