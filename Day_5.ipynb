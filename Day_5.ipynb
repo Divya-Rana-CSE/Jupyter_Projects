{
 "cells": [
  {
   "cell_type": "markdown",
   "id": "bb509b7a",
   "metadata": {},
   "source": [
    "# set"
   ]
  },
  {
   "cell_type": "code",
   "execution_count": 1,
   "id": "21ed76de",
   "metadata": {},
   "outputs": [
    {
     "data": {
      "text/plain": [
       "'\\nset is used to store multiple data items in a single variable. The items stored in set are \\nunordered and unindexed and unchangeable but we can add and remove the data items. \\n'"
      ]
     },
     "execution_count": 1,
     "metadata": {},
     "output_type": "execute_result"
    }
   ],
   "source": [
    "\"\"\"\n",
    "set is used to store multiple data items in a single variable. The items stored in set are \n",
    "unordered and unindexed and unchangeable but we can add and remove the data items. \n",
    "\"\"\""
   ]
  },
  {
   "cell_type": "markdown",
   "id": "a4575656-d147-42d5-a0a4-7d5ec50296fd",
   "metadata": {},
   "source": [
    "# creating a set"
   ]
  },
  {
   "cell_type": "code",
   "execution_count": 2,
   "id": "abdce4c3",
   "metadata": {},
   "outputs": [],
   "source": [
    "#creating a set\n",
    "company = {'tcs', 'Wipro', 'ibm', 'satyam', 'black rock', 'flip cart', 'Wipro'}"
   ]
  },
  {
   "cell_type": "code",
   "execution_count": 3,
   "id": "f249feb2",
   "metadata": {},
   "outputs": [
    {
     "name": "stdout",
     "output_type": "stream",
     "text": [
      "{'Wipro', 'ibm', 'black rock', 'tcs', 'satyam', 'flip cart'}\n"
     ]
    }
   ],
   "source": [
    "print(company)"
   ]
  },
  {
   "cell_type": "markdown",
   "id": "1ad54bc2-bcb7-4314-b661-7140be240438",
   "metadata": {},
   "source": [
    "# Unchangeable"
   ]
  },
  {
   "cell_type": "code",
   "execution_count": 4,
   "id": "fb73e154",
   "metadata": {},
   "outputs": [
    {
     "ename": "NameError",
     "evalue": "name 'set1' is not defined",
     "output_type": "error",
     "traceback": [
      "\u001b[1;31m---------------------------------------------------------------------------\u001b[0m",
      "\u001b[1;31mNameError\u001b[0m                                 Traceback (most recent call last)",
      "Cell \u001b[1;32mIn[4], line 2\u001b[0m\n\u001b[0;32m      1\u001b[0m \u001b[38;5;66;03m# Unchangeable\u001b[39;00m\n\u001b[1;32m----> 2\u001b[0m set1[\u001b[38;5;241m0\u001b[39m] \u001b[38;5;241m=\u001b[39m \u001b[38;5;124m'\u001b[39m\u001b[38;5;124mamazon\u001b[39m\u001b[38;5;124m'\u001b[39m\n",
      "\u001b[1;31mNameError\u001b[0m: name 'set1' is not defined"
     ]
    }
   ],
   "source": [
    "# Unchangeable\n",
    "set1[0] = 'amazon'"
   ]
  },
  {
   "cell_type": "code",
   "execution_count": null,
   "id": "9ef12f19",
   "metadata": {},
   "outputs": [],
   "source": [
    "type(company)"
   ]
  },
  {
   "cell_type": "code",
   "execution_count": null,
   "id": "c6434ca1",
   "metadata": {},
   "outputs": [],
   "source": [
    "top_companies = set(('tcs', 'ibm', 'flip cart', 'Wipro', 'black rock', 'satyam'))"
   ]
  },
  {
   "cell_type": "code",
   "execution_count": null,
   "id": "6e37f56a",
   "metadata": {},
   "outputs": [],
   "source": [
    "print(top_companies)"
   ]
  },
  {
   "cell_type": "code",
   "execution_count": null,
   "id": "634055eb",
   "metadata": {},
   "outputs": [],
   "source": [
    "type(top_companies)"
   ]
  },
  {
   "cell_type": "markdown",
   "id": "9b8ae680-0950-47ce-a3f8-6f8458e333ec",
   "metadata": {},
   "source": [
    "# adding data items in set"
   ]
  },
  {
   "cell_type": "code",
   "execution_count": null,
   "id": "64a68a63",
   "metadata": {},
   "outputs": [],
   "source": [
    "#adding data items in set\n",
    "company.add(\"google\")"
   ]
  },
  {
   "cell_type": "code",
   "execution_count": null,
   "id": "ad059450",
   "metadata": {},
   "outputs": [],
   "source": [
    "print(company)"
   ]
  },
  {
   "cell_type": "code",
   "execution_count": null,
   "id": "a0a00735",
   "metadata": {},
   "outputs": [],
   "source": [
    "company.add(\"miso\", \"facebook\")"
   ]
  },
  {
   "cell_type": "code",
   "execution_count": null,
   "id": "529d213e",
   "metadata": {},
   "outputs": [],
   "source": [
    "rank = {1,2,3,4,5}"
   ]
  },
  {
   "cell_type": "code",
   "execution_count": null,
   "id": "4a8fbbf1",
   "metadata": {},
   "outputs": [],
   "source": [
    "company.update(rank)"
   ]
  },
  {
   "cell_type": "code",
   "execution_count": null,
   "id": "da6976b0",
   "metadata": {},
   "outputs": [],
   "source": [
    "print(company)"
   ]
  },
  {
   "cell_type": "code",
   "execution_count": null,
   "id": "66265a33",
   "metadata": {},
   "outputs": [],
   "source": [
    "fruits = {'banana', 'apple'}\n",
    "seasional_fruit = {'guava', 'grapes', 'mango'}"
   ]
  },
  {
   "cell_type": "code",
   "execution_count": null,
   "id": "cfbfac43",
   "metadata": {},
   "outputs": [],
   "source": [
    "fruits.update(seasional_fruit)"
   ]
  },
  {
   "cell_type": "code",
   "execution_count": null,
   "id": "a5496386",
   "metadata": {},
   "outputs": [],
   "source": [
    "print(fruits)"
   ]
  },
  {
   "cell_type": "markdown",
   "id": "e62f6661-b26a-47c2-9405-444c066b331c",
   "metadata": {},
   "source": [
    "# removing items from set"
   ]
  },
  {
   "cell_type": "code",
   "execution_count": null,
   "id": "a9ece17a",
   "metadata": {},
   "outputs": [],
   "source": [
    "#removing items from set\n",
    "fruits.remove(\"grapes\")"
   ]
  },
  {
   "cell_type": "code",
   "execution_count": null,
   "id": "2fd58efb",
   "metadata": {},
   "outputs": [],
   "source": [
    "fruits"
   ]
  },
  {
   "cell_type": "code",
   "execution_count": null,
   "id": "b9795a27",
   "metadata": {},
   "outputs": [],
   "source": [
    "fruits.remove(\"papaya\")"
   ]
  },
  {
   "cell_type": "markdown",
   "id": "59fc0369-6e70-412b-aedd-14a48bc109b8",
   "metadata": {},
   "source": [
    "# discard() - is used to remove the data items from list if the given data item is not\n",
    "# present in list, it will not display any error"
   ]
  },
  {
   "cell_type": "code",
   "execution_count": null,
   "id": "eff86a16",
   "metadata": {},
   "outputs": [],
   "source": [
    "fruits.discard(\"apple\")"
   ]
  },
  {
   "cell_type": "code",
   "execution_count": null,
   "id": "c6248d1d",
   "metadata": {},
   "outputs": [],
   "source": [
    "fruits"
   ]
  },
  {
   "cell_type": "code",
   "execution_count": null,
   "id": "878110aa",
   "metadata": {},
   "outputs": [],
   "source": [
    "fruits.discard(\"papaya\")"
   ]
  },
  {
   "cell_type": "code",
   "execution_count": null,
   "id": "7a478c60",
   "metadata": {},
   "outputs": [],
   "source": [
    "fruits"
   ]
  },
  {
   "cell_type": "code",
   "execution_count": null,
   "id": "a44c272b",
   "metadata": {},
   "outputs": [],
   "source": [
    "drop = fruits.pop()"
   ]
  },
  {
   "cell_type": "code",
   "execution_count": null,
   "id": "b2fcd321",
   "metadata": {},
   "outputs": [],
   "source": [
    "drop"
   ]
  },
  {
   "cell_type": "code",
   "execution_count": null,
   "id": "f840ad23",
   "metadata": {},
   "outputs": [],
   "source": [
    "fruits"
   ]
  },
  {
   "cell_type": "code",
   "execution_count": null,
   "id": "32791a51",
   "metadata": {},
   "outputs": [],
   "source": [
    "print(company)"
   ]
  },
  {
   "cell_type": "code",
   "execution_count": null,
   "id": "f7732720",
   "metadata": {},
   "outputs": [],
   "source": [
    "drop2 = company.pop()"
   ]
  },
  {
   "cell_type": "code",
   "execution_count": null,
   "id": "b3716037",
   "metadata": {},
   "outputs": [],
   "source": [
    "drop2"
   ]
  },
  {
   "cell_type": "code",
   "execution_count": null,
   "id": "3c982da3",
   "metadata": {},
   "outputs": [],
   "source": [
    "drop3 = company.pop()"
   ]
  },
  {
   "cell_type": "code",
   "execution_count": null,
   "id": "89c28913",
   "metadata": {},
   "outputs": [],
   "source": [
    "drop3"
   ]
  },
  {
   "cell_type": "markdown",
   "id": "1fc7a291",
   "metadata": {},
   "source": [
    "# join"
   ]
  },
  {
   "cell_type": "code",
   "execution_count": null,
   "id": "2bd87452",
   "metadata": {},
   "outputs": [],
   "source": [
    "s1 = {1,2,3,4,5,6}\n",
    "s2 = {5,6,7,8}\n",
    "s3 = {8,9,10,11}"
   ]
  },
  {
   "cell_type": "code",
   "execution_count": null,
   "id": "a4784022",
   "metadata": {},
   "outputs": [],
   "source": [
    "s1.union(s2)"
   ]
  },
  {
   "cell_type": "code",
   "execution_count": null,
   "id": "89048231",
   "metadata": {},
   "outputs": [],
   "source": [
    "s1.union(s2,s3)"
   ]
  },
  {
   "cell_type": "code",
   "execution_count": null,
   "id": "ff18d3a1",
   "metadata": {},
   "outputs": [],
   "source": [
    "set1 = {'nitin', 'prince', 'sahil', 'kanika'}\n",
    "set2 = {'uttam', 'vivek', 'jatin', 'nitin'}\n",
    "set3 = {'kanika', 'manvi', 'garima', 'vivek', 'nitin'}"
   ]
  },
  {
   "cell_type": "code",
   "execution_count": null,
   "id": "b8cef927",
   "metadata": {},
   "outputs": [],
   "source": [
    "name = set1 | set2 | set3"
   ]
  },
  {
   "cell_type": "code",
   "execution_count": null,
   "id": "725b1af9",
   "metadata": {},
   "outputs": [],
   "source": [
    "print(name)"
   ]
  },
  {
   "cell_type": "code",
   "execution_count": null,
   "id": "b391aafa",
   "metadata": {},
   "outputs": [],
   "source": [
    "#intersection\n",
    "set1.intersection(set2)"
   ]
  },
  {
   "cell_type": "code",
   "execution_count": null,
   "id": "bce6b5a2",
   "metadata": {},
   "outputs": [],
   "source": [
    "set2.intersection(set3)"
   ]
  },
  {
   "cell_type": "code",
   "execution_count": null,
   "id": "afa11367",
   "metadata": {},
   "outputs": [],
   "source": [
    "common_name = set1 & set2 & set3"
   ]
  },
  {
   "cell_type": "code",
   "execution_count": null,
   "id": "0b297f12",
   "metadata": {},
   "outputs": [],
   "source": [
    "common_name"
   ]
  },
  {
   "cell_type": "markdown",
   "id": "831c19f9-7306-493b-99d3-54fb42b94220",
   "metadata": {},
   "source": [
    "# difference"
   ]
  },
  {
   "cell_type": "code",
   "execution_count": null,
   "id": "48d199db",
   "metadata": {},
   "outputs": [],
   "source": [
    "#difference\n",
    "dif = set1 - set2"
   ]
  },
  {
   "cell_type": "code",
   "execution_count": null,
   "id": "2d643202",
   "metadata": {},
   "outputs": [],
   "source": [
    "print(dif)"
   ]
  },
  {
   "cell_type": "code",
   "execution_count": null,
   "id": "c859c0bf",
   "metadata": {},
   "outputs": [],
   "source": []
  }
 ],
 "metadata": {
  "kernelspec": {
   "display_name": "Python 3 (ipykernel)",
   "language": "python",
   "name": "python3"
  },
  "language_info": {
   "codemirror_mode": {
    "name": "ipython",
    "version": 3
   },
   "file_extension": ".py",
   "mimetype": "text/x-python",
   "name": "python",
   "nbconvert_exporter": "python",
   "pygments_lexer": "ipython3",
   "version": "3.11.7"
  }
 },
 "nbformat": 4,
 "nbformat_minor": 5
}
