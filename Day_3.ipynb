{
 "cells": [
  {
   "cell_type": "markdown",
   "id": "5dd8685a-7b74-4bf2-8b60-7788e4eaa6fa",
   "metadata": {},
   "source": [
    "# Looping Statement"
   ]
  },
  {
   "cell_type": "code",
   "execution_count": 1,
   "id": "aa63b1f2-0164-4fe7-a4d0-f9fc7441c439",
   "metadata": {},
   "outputs": [
    {
     "name": "stdout",
     "output_type": "stream",
     "text": [
      "1,2,3,4,5,6,7,8,9,10,"
     ]
    }
   ],
   "source": [
    "i = 1\n",
    "while i<=10:\n",
    "    print(i,end=\",\")\n",
    "    i+=1\n",
    "   "
   ]
  },
  {
   "cell_type": "code",
   "execution_count": 2,
   "id": "d61219c7-2d9c-41cf-93a3-925029f85a59",
   "metadata": {},
   "outputs": [
    {
     "name": "stdout",
     "output_type": "stream",
     "text": [
      "2 4 6 8 10 12 14 16 18 20 22 24 26 28 30 32 34 36 38 40 42 44 46 48 50 52 54 56 58 60 62 64 66 68 70 72 74 76 78 80 82 84 86 88 90 92 94 96 98 100 \n",
      "hello,world!"
     ]
    }
   ],
   "source": [
    "i = 1\n",
    "while i <= 100:\n",
    "    if i%2 == 0:\n",
    "        print(i, end=\" \")\n",
    "    i += 1 \n",
    "print(\"\\nhello\",\"world\",sep=\",\",end=\"!\")"
   ]
  },
  {
   "cell_type": "markdown",
   "id": "6b408df8-70ce-4d87-b780-8ac8036d8a73",
   "metadata": {},
   "source": [
    "# Range Function .... range()"
   ]
  },
  {
   "cell_type": "code",
   "execution_count": 3,
   "id": "34349964-1d23-4748-805f-cf3da4b973c8",
   "metadata": {},
   "outputs": [
    {
     "name": "stdout",
     "output_type": "stream",
     "text": [
      "range(0, 4)\n"
     ]
    }
   ],
   "source": [
    "print(range(4))"
   ]
  },
  {
   "cell_type": "code",
   "execution_count": 4,
   "id": "e9f57c6d-db82-4a61-9e4e-832f19698715",
   "metadata": {},
   "outputs": [],
   "source": [
    "# iteration = iterator +iterable"
   ]
  },
  {
   "cell_type": "code",
   "execution_count": 5,
   "id": "75a10c3b-0671-4103-9ad2-be48a7f68c6c",
   "metadata": {},
   "outputs": [
    {
     "name": "stdout",
     "output_type": "stream",
     "text": [
      "6,10\n"
     ]
    }
   ],
   "source": [
    "for i in range(1,11):\n",
    "    if i == 6:\n",
    "        print(i,end=\",\")\n",
    "print(i)        "
   ]
  },
  {
   "cell_type": "code",
   "execution_count": 6,
   "id": "fe368af3-6855-4ddf-a4ba-627054f62fd1",
   "metadata": {},
   "outputs": [
    {
     "name": "stdout",
     "output_type": "stream",
     "text": [
      "0=>2=>4=>6=>8=>10=>12=>14=>16=>18=>20=>22=>24=>26=>28=>30=>32=>34=>36=>38=>40=>42=>44=>46=>48=>50=>"
     ]
    }
   ],
   "source": [
    "for i in range(0,51,2):\n",
    "    print(i,end=\"=>\")"
   ]
  },
  {
   "cell_type": "code",
   "execution_count": 7,
   "id": "8840faf8-d6bd-4be7-acf6-a8f3a0194d9b",
   "metadata": {},
   "outputs": [
    {
     "name": "stdout",
     "output_type": "stream",
     "text": [
      "9\n",
      "11\n",
      "13\n",
      "15\n",
      "17\n",
      "19\n",
      "21\n",
      "23\n",
      "25\n",
      "27\n",
      "29\n",
      "31\n",
      "33\n",
      "35\n",
      "37\n",
      "39\n",
      "41\n",
      "43\n",
      "45\n",
      "47\n",
      "49\n",
      "51\n",
      "53\n",
      "55\n",
      "57\n",
      "59\n",
      "61\n",
      "63\n",
      "65\n",
      "67\n",
      "69\n",
      "71\n",
      "73\n",
      "75\n",
      "77\n",
      "79\n"
     ]
    }
   ],
   "source": [
    "for y in range(9,81,2):\n",
    "    print(y)"
   ]
  },
  {
   "cell_type": "code",
   "execution_count": 8,
   "id": "119986f6-deb4-4fec-85d0-ddb185ba2689",
   "metadata": {},
   "outputs": [
    {
     "name": "stdout",
     "output_type": "stream",
     "text": [
      "10\n",
      "9\n",
      "8\n",
      "7\n",
      "6\n",
      "5\n",
      "4\n",
      "3\n",
      "2\n",
      "1\n"
     ]
    }
   ],
   "source": [
    "for r in range(10,0,-1):\n",
    "    print(r)"
   ]
  },
  {
   "cell_type": "code",
   "execution_count": 9,
   "id": "5a857ebc-abce-4606-a000-4ccd5ae38b57",
   "metadata": {},
   "outputs": [
    {
     "name": "stdout",
     "output_type": "stream",
     "text": [
      "1\n",
      "3\n",
      "5\n",
      "7\n",
      "9\n"
     ]
    }
   ],
   "source": [
    "#odd number loop \n",
    "for o in range(1,10,2):\n",
    "    print(o)"
   ]
  },
  {
   "cell_type": "code",
   "execution_count": 10,
   "id": "4d6fe27c-a237-4f63-94b3-c2c7621fcba8",
   "metadata": {},
   "outputs": [],
   "source": [
    "##\n",
    "##\n",
    "##\n",
    "##"
   ]
  },
  {
   "cell_type": "code",
   "execution_count": 11,
   "id": "ff95c29a-456b-4479-9425-1a9197f80028",
   "metadata": {},
   "outputs": [
    {
     "data": {
      "text/plain": [
       "'\\n# # # #\\n# # # #\\n# # # #\\n# # # #\\n'"
      ]
     },
     "execution_count": 11,
     "metadata": {},
     "output_type": "execute_result"
    }
   ],
   "source": [
    "\"\"\"\n",
    "# # # #\n",
    "# # # #\n",
    "# # # #\n",
    "# # # #\n",
    "\"\"\""
   ]
  },
  {
   "cell_type": "code",
   "execution_count": 12,
   "id": "dd7b0acf-cc54-4d56-adab-01856356de7b",
   "metadata": {},
   "outputs": [
    {
     "name": "stdout",
     "output_type": "stream",
     "text": [
      "# # # \n",
      "# # # \n",
      "# # # \n",
      "# # # \n"
     ]
    }
   ],
   "source": [
    "for i in range(1,5): # row\n",
    "    for i in range(1,4): # column\n",
    "      print(\"#\",end=\" \")\n",
    "    print()"
   ]
  },
  {
   "cell_type": "markdown",
   "id": "4a04359e-be85-4249-9166-3a8ad8bc0f10",
   "metadata": {},
   "source": [
    "# List "
   ]
  },
  {
   "cell_type": "code",
   "execution_count": 13,
   "id": "a3ef6a78-dcfa-4595-b1ea-1281d13e3a68",
   "metadata": {},
   "outputs": [],
   "source": [
    "students = [ \"divya\" , \"shiana\",\"yogita\",\"yogita\"]\n"
   ]
  },
  {
   "cell_type": "code",
   "execution_count": 14,
   "id": "85d9b633-7745-438f-8e9d-dcbf4703f3cf",
   "metadata": {},
   "outputs": [
    {
     "name": "stdout",
     "output_type": "stream",
     "text": [
      "['divya', 'shiana', 'yogita', 'yogita']\n"
     ]
    }
   ],
   "source": [
    "print(students)"
   ]
  },
  {
   "cell_type": "code",
   "execution_count": 15,
   "id": "38dd4d80-9f24-461d-92fd-17e3b4718c02",
   "metadata": {},
   "outputs": [],
   "source": [
    "# count() = returns the number of items present in list"
   ]
  },
  {
   "cell_type": "code",
   "execution_count": 16,
   "id": "e068c05d-d7dc-4cd4-ab3f-7645b6942c56",
   "metadata": {},
   "outputs": [
    {
     "data": {
      "text/plain": [
       "2"
      ]
     },
     "execution_count": 16,
     "metadata": {},
     "output_type": "execute_result"
    }
   ],
   "source": [
    "students.count(\"yogita\")"
   ]
  },
  {
   "cell_type": "code",
   "execution_count": 17,
   "id": "e3638bb6-3b92-4d79-9604-2ffb6409e850",
   "metadata": {},
   "outputs": [
    {
     "data": {
      "text/plain": [
       "2"
      ]
     },
     "execution_count": 17,
     "metadata": {},
     "output_type": "execute_result"
    }
   ],
   "source": [
    "# index() = returns the index of given item in list\n",
    "students.index(\"yogita\")"
   ]
  },
  {
   "cell_type": "code",
   "execution_count": 18,
   "id": "3fe7d664-3e9b-4b3e-bc84-e54dd5c8fad0",
   "metadata": {},
   "outputs": [
    {
     "data": {
      "text/plain": [
       "0"
      ]
     },
     "execution_count": 18,
     "metadata": {},
     "output_type": "execute_result"
    }
   ],
   "source": [
    "student = [ 'divya' , 'shiana','yogita','yogita']\n",
    "student.index('divya')"
   ]
  },
  {
   "cell_type": "code",
   "execution_count": 19,
   "id": "98dd8dbf-a76f-4219-b32f-a3cfb625f652",
   "metadata": {},
   "outputs": [],
   "source": [
    "# insert() = it insert the item in the list int at a given index\n",
    "students.insert(2,\"Priya\")"
   ]
  },
  {
   "cell_type": "code",
   "execution_count": 20,
   "id": "a730cf39-323a-485b-ba6d-4d7f5a6e7b3d",
   "metadata": {},
   "outputs": [
    {
     "data": {
      "text/plain": [
       "['divya', 'shiana', 'Priya', 'yogita', 'yogita']"
      ]
     },
     "execution_count": 20,
     "metadata": {},
     "output_type": "execute_result"
    }
   ],
   "source": [
    "students# pop = it remove the last item of the list\n"
   ]
  },
  {
   "cell_type": "code",
   "execution_count": 21,
   "id": "36c9100c-9d95-4520-963a-9b9c3c64d2ac",
   "metadata": {},
   "outputs": [],
   "source": [
    "# pop = it remove the last item of the list\n",
    "drop = students.pop()"
   ]
  },
  {
   "cell_type": "code",
   "execution_count": 22,
   "id": "cd7f9e4f-460a-4968-b5b4-1768e98f95f3",
   "metadata": {},
   "outputs": [
    {
     "data": {
      "text/plain": [
       "'yogita'"
      ]
     },
     "execution_count": 22,
     "metadata": {},
     "output_type": "execute_result"
    }
   ],
   "source": [
    "drop"
   ]
  },
  {
   "cell_type": "code",
   "execution_count": 23,
   "id": "18b6fd31-3332-4c23-9ee3-975aff2f1b57",
   "metadata": {},
   "outputs": [
    {
     "data": {
      "text/plain": [
       "['divya', 'shiana', 'Priya', 'yogita']"
      ]
     },
     "execution_count": 23,
     "metadata": {},
     "output_type": "execute_result"
    }
   ],
   "source": [
    "students"
   ]
  },
  {
   "cell_type": "code",
   "execution_count": 24,
   "id": "983fe3da-9c17-4aab-90fc-5b9c6670cbbc",
   "metadata": {},
   "outputs": [],
   "source": [
    "# remove() = it removes the given data item from list\n",
    "students.remove(\"shiana\")"
   ]
  },
  {
   "cell_type": "code",
   "execution_count": 25,
   "id": "2eb880f6-8676-4465-b336-e0150c537511",
   "metadata": {},
   "outputs": [
    {
     "data": {
      "text/plain": [
       "['divya', 'Priya', 'yogita']"
      ]
     },
     "execution_count": 25,
     "metadata": {},
     "output_type": "execute_result"
    }
   ],
   "source": [
    "students"
   ]
  },
  {
   "cell_type": "code",
   "execution_count": 26,
   "id": "2933b9c1-1ff8-4b62-ae8b-57afba4130b5",
   "metadata": {},
   "outputs": [],
   "source": [
    "#sort() = it returns the sorted list of items in accending order or descending order\n",
    "students.sort()"
   ]
  },
  {
   "cell_type": "code",
   "execution_count": 27,
   "id": "539d8fcf-8de9-4ab6-b808-af2b3be334fa",
   "metadata": {},
   "outputs": [
    {
     "data": {
      "text/plain": [
       "['Priya', 'divya', 'yogita']"
      ]
     },
     "execution_count": 27,
     "metadata": {},
     "output_type": "execute_result"
    }
   ],
   "source": [
    "students"
   ]
  },
  {
   "cell_type": "code",
   "execution_count": 28,
   "id": "b6b0f636-b215-428c-a145-12873f2cf513",
   "metadata": {},
   "outputs": [],
   "source": [
    "students.sort(reverse = True)"
   ]
  },
  {
   "cell_type": "code",
   "execution_count": 29,
   "id": "59601601-fac2-4376-b0fa-b2a37cd4d7b2",
   "metadata": {},
   "outputs": [
    {
     "data": {
      "text/plain": [
       "['yogita', 'divya', 'Priya']"
      ]
     },
     "execution_count": 29,
     "metadata": {},
     "output_type": "execute_result"
    }
   ],
   "source": [
    "students"
   ]
  },
  {
   "cell_type": "code",
   "execution_count": 30,
   "id": "0be7adbe-114b-433c-8c96-121b463bf329",
   "metadata": {},
   "outputs": [],
   "source": [
    "# append() = it adds the given item at the end of the list\n",
    "students.append(\"love\")"
   ]
  },
  {
   "cell_type": "code",
   "execution_count": 31,
   "id": "a3fefafa-e484-40b7-a1f5-e9d767829bf9",
   "metadata": {},
   "outputs": [
    {
     "data": {
      "text/plain": [
       "['yogita', 'divya', 'Priya', 'love']"
      ]
     },
     "execution_count": 31,
     "metadata": {},
     "output_type": "execute_result"
    }
   ],
   "source": [
    "# append last me element ko add krta hai unlike insert jo index ko agge shift kr deta hia\n",
    "students"
   ]
  },
  {
   "cell_type": "code",
   "execution_count": 32,
   "id": "69b3e643-164c-411c-abb9-cfdc60decec1",
   "metadata": {},
   "outputs": [],
   "source": [
    "surname = ['R' , 'P' , 'T' , 'Q']"
   ]
  },
  {
   "cell_type": "code",
   "execution_count": 33,
   "id": "d2492f6b-0fc6-4c72-b332-25e7d82bd9ca",
   "metadata": {},
   "outputs": [],
   "source": [
    "# extend() = it adds the data items at the end of the list\n",
    "students.extend(surname)"
   ]
  },
  {
   "cell_type": "code",
   "execution_count": 34,
   "id": "d7b92d86-70fc-497d-90a9-e6f3a2d92394",
   "metadata": {},
   "outputs": [
    {
     "data": {
      "text/plain": [
       "['yogita', 'divya', 'Priya', 'love', 'R', 'P', 'T', 'Q']"
      ]
     },
     "execution_count": 34,
     "metadata": {},
     "output_type": "execute_result"
    }
   ],
   "source": [
    "students"
   ]
  },
  {
   "cell_type": "code",
   "execution_count": 35,
   "id": "9334859d-6e34-453c-93bf-fb6cd90f33c3",
   "metadata": {},
   "outputs": [],
   "source": [
    "students.append(surname)"
   ]
  },
  {
   "cell_type": "code",
   "execution_count": 36,
   "id": "0bcf28a7-c7c8-48b8-8d12-391d585f6df7",
   "metadata": {},
   "outputs": [
    {
     "data": {
      "text/plain": [
       "['yogita', 'divya', 'Priya', 'love', 'R', 'P', 'T', 'Q', ['R', 'P', 'T', 'Q']]"
      ]
     },
     "execution_count": 36,
     "metadata": {},
     "output_type": "execute_result"
    }
   ],
   "source": [
    "students"
   ]
  },
  {
   "cell_type": "code",
   "execution_count": 37,
   "id": "a52302f0-ddc5-4f35-b029-ef8bc4c29971",
   "metadata": {},
   "outputs": [],
   "source": [
    "students.append(['gupta','malik'])"
   ]
  },
  {
   "cell_type": "code",
   "execution_count": 38,
   "id": "fa256d75-e4f1-41ff-8df0-50f721df33ba",
   "metadata": {},
   "outputs": [
    {
     "data": {
      "text/plain": [
       "['yogita',\n",
       " 'divya',\n",
       " 'Priya',\n",
       " 'love',\n",
       " 'R',\n",
       " 'P',\n",
       " 'T',\n",
       " 'Q',\n",
       " ['R', 'P', 'T', 'Q'],\n",
       " ['gupta', 'malik']]"
      ]
     },
     "execution_count": 38,
     "metadata": {},
     "output_type": "execute_result"
    }
   ],
   "source": [
    "students"
   ]
  },
  {
   "cell_type": "code",
   "execution_count": 39,
   "id": "6011ce05-b2bb-4cb4-9e58-4d58235e71ae",
   "metadata": {},
   "outputs": [],
   "source": [
    "students_surname = student+surname"
   ]
  },
  {
   "cell_type": "code",
   "execution_count": 40,
   "id": "77202a3c-f36f-496b-95ae-a404072a2e9a",
   "metadata": {},
   "outputs": [
    {
     "data": {
      "text/plain": [
       "['divya', 'shiana', 'yogita', 'yogita', 'R', 'P', 'T', 'Q']"
      ]
     },
     "execution_count": 40,
     "metadata": {},
     "output_type": "execute_result"
    }
   ],
   "source": [
    "students_surname"
   ]
  },
  {
   "cell_type": "code",
   "execution_count": 41,
   "id": "700c5a1e-6625-4d67-993f-ebdc5cd1a83a",
   "metadata": {},
   "outputs": [],
   "source": [
    "l1 = [11,5,6]\n",
    "l2 = [45,6,7]\n",
    "    \n",
    "# we can concatenate 2 list using + opperator\n"
   ]
  },
  {
   "cell_type": "code",
   "execution_count": 42,
   "id": "98dab345-cc3d-432e-84f0-240765291abe",
   "metadata": {},
   "outputs": [
    {
     "data": {
      "text/plain": [
       "[11, 5, 6, 45, 6, 7]"
      ]
     },
     "execution_count": 42,
     "metadata": {},
     "output_type": "execute_result"
    }
   ],
   "source": [
    "l1+l2"
   ]
  },
  {
   "cell_type": "markdown",
   "id": "86b20673-a3f3-4d34-85f7-4f9130acb21f",
   "metadata": {},
   "source": [
    "# slicing of list"
   ]
  },
  {
   "cell_type": "code",
   "execution_count": 43,
   "id": "df9849d0-e045-4f39-b617-3d0d1d16b444",
   "metadata": {},
   "outputs": [
    {
     "data": {
      "text/plain": [
       "['divya', 'shiana', 'yogita']"
      ]
     },
     "execution_count": 43,
     "metadata": {},
     "output_type": "execute_result"
    }
   ],
   "source": [
    "student[0:-1]"
   ]
  },
  {
   "cell_type": "code",
   "execution_count": 44,
   "id": "7bd569f4-18c1-4f5e-bb05-5bfd01c11111",
   "metadata": {},
   "outputs": [],
   "source": [
    "number = [1,2,3,4,5,6,7,8]"
   ]
  },
  {
   "cell_type": "code",
   "execution_count": 45,
   "id": "61622af0-95b3-4ce6-a17f-acd220bfbf8b",
   "metadata": {},
   "outputs": [
    {
     "data": {
      "text/plain": [
       "8"
      ]
     },
     "execution_count": 45,
     "metadata": {},
     "output_type": "execute_result"
    }
   ],
   "source": [
    "number[-1]"
   ]
  },
  {
   "cell_type": "code",
   "execution_count": 46,
   "id": "35cbedf5-c603-456e-82c5-a80dd7ac80e8",
   "metadata": {},
   "outputs": [
    {
     "data": {
      "text/plain": [
       "[2, 3, 4]"
      ]
     },
     "execution_count": 46,
     "metadata": {},
     "output_type": "execute_result"
    }
   ],
   "source": [
    "number[1:4]"
   ]
  },
  {
   "cell_type": "code",
   "execution_count": 47,
   "id": "9a7afc66-8677-43ee-92a1-74d69519a011",
   "metadata": {},
   "outputs": [
    {
     "data": {
      "text/plain": [
       "5"
      ]
     },
     "execution_count": 47,
     "metadata": {},
     "output_type": "execute_result"
    }
   ],
   "source": [
    "number[4]"
   ]
  },
  {
   "cell_type": "code",
   "execution_count": 48,
   "id": "a62c46f0-eebd-4db9-a5fe-5180563238df",
   "metadata": {},
   "outputs": [
    {
     "data": {
      "text/plain": [
       "2"
      ]
     },
     "execution_count": 48,
     "metadata": {},
     "output_type": "execute_result"
    }
   ],
   "source": [
    "number[-7]"
   ]
  },
  {
   "cell_type": "code",
   "execution_count": 49,
   "id": "9cc84876-4450-44b5-92d9-9413135eb7df",
   "metadata": {},
   "outputs": [
    {
     "data": {
      "text/plain": [
       "[2, 3, 4, 5]"
      ]
     },
     "execution_count": 49,
     "metadata": {},
     "output_type": "execute_result"
    }
   ],
   "source": [
    "number[1:5]  # last vala include nhi hoga"
   ]
  },
  {
   "cell_type": "code",
   "execution_count": 50,
   "id": "962eee3c-fbea-4e25-8503-c363aac778b2",
   "metadata": {},
   "outputs": [
    {
     "data": {
      "text/plain": [
       "[1, 7]"
      ]
     },
     "execution_count": 50,
     "metadata": {},
     "output_type": "execute_result"
    }
   ],
   "source": [
    "number[::6] # need to know"
   ]
  },
  {
   "cell_type": "code",
   "execution_count": 51,
   "id": "0c7a1877-bd35-4221-8c22-3ff07d1ecc70",
   "metadata": {},
   "outputs": [],
   "source": [
    "friends = ['kannu','kittu','palak','khushi','emka']"
   ]
  },
  {
   "cell_type": "code",
   "execution_count": 52,
   "id": "7c61ed09-8dcb-4629-a844-86368bb96847",
   "metadata": {},
   "outputs": [
    {
     "name": "stdout",
     "output_type": "stream",
     "text": [
      "Happy Brithday to kannu\n",
      "Happy Brithday to kittu\n",
      "Happy Brithday to palak\n",
      "Happy Brithday to khushi\n",
      "Happy Brithday to emka\n"
     ]
    }
   ],
   "source": [
    "for i in friends:\n",
    "    print(\"Happy Brithday to\",i)"
   ]
  },
  {
   "cell_type": "code",
   "execution_count": null,
   "id": "248f7075-deee-4ddf-ae12-bbad753f1323",
   "metadata": {},
   "outputs": [],
   "source": []
  }
 ],
 "metadata": {
  "kernelspec": {
   "display_name": "Python 3 (ipykernel)",
   "language": "python",
   "name": "python3"
  },
  "language_info": {
   "codemirror_mode": {
    "name": "ipython",
    "version": 3
   },
   "file_extension": ".py",
   "mimetype": "text/x-python",
   "name": "python",
   "nbconvert_exporter": "python",
   "pygments_lexer": "ipython3",
   "version": "3.11.7"
  }
 },
 "nbformat": 4,
 "nbformat_minor": 5
}
