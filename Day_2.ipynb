{
 "cells": [
  {
   "cell_type": "markdown",
   "id": "0904e9a5-014a-4bd2-80ee-f32c62a13ff4",
   "metadata": {},
   "source": [
    "# Precedence and arithmetic"
   ]
  },
  {
   "cell_type": "code",
   "execution_count": 1,
   "id": "9b46f9c9-d93e-44c3-83d1-1c7607519c4e",
   "metadata": {},
   "outputs": [],
   "source": [
    "a = 10\n",
    "b = 5\n",
    "c = a/b\n"
   ]
  },
  {
   "cell_type": "code",
   "execution_count": 2,
   "id": "16023d12-3540-4947-ab7f-dd714d9db399",
   "metadata": {},
   "outputs": [
    {
     "name": "stdout",
     "output_type": "stream",
     "text": [
      "2.0\n"
     ]
    }
   ],
   "source": [
    "print(c)"
   ]
  },
  {
   "cell_type": "code",
   "execution_count": 3,
   "id": "4649b410-9340-47e6-8a24-fd5d98604b71",
   "metadata": {},
   "outputs": [],
   "source": [
    "d = a // b # give integer"
   ]
  },
  {
   "cell_type": "code",
   "execution_count": 4,
   "id": "e9aa4f61-c839-44ff-bb10-251cf7cf658c",
   "metadata": {},
   "outputs": [
    {
     "name": "stdout",
     "output_type": "stream",
     "text": [
      "2\n"
     ]
    }
   ],
   "source": [
    "print(d)"
   ]
  },
  {
   "cell_type": "code",
   "execution_count": 5,
   "id": "6c397bdb-0cfe-4377-af07-6a0a577dbb1c",
   "metadata": {},
   "outputs": [
    {
     "data": {
      "text/plain": [
       "1.0"
      ]
     },
     "execution_count": 5,
     "metadata": {},
     "output_type": "execute_result"
    }
   ],
   "source": [
    "2.0 // 1.4"
   ]
  },
  {
   "cell_type": "code",
   "execution_count": 6,
   "id": "75d89d27-8a25-48ab-825f-aeb228eb930e",
   "metadata": {},
   "outputs": [
    {
     "name": "stdout",
     "output_type": "stream",
     "text": [
      "8\n"
     ]
    }
   ],
   "source": [
    "print(2 ** 3) # powers"
   ]
  },
  {
   "cell_type": "code",
   "execution_count": 7,
   "id": "5d95a18a-2d86-4e61-b8bc-21575f2b51a2",
   "metadata": {},
   "outputs": [
    {
     "name": "stdout",
     "output_type": "stream",
     "text": [
      "9\n"
     ]
    }
   ],
   "source": [
    "print( 3 ** 2)"
   ]
  },
  {
   "cell_type": "code",
   "execution_count": 8,
   "id": "35fa8495-3154-4183-9294-a555a3ccbfa1",
   "metadata": {},
   "outputs": [],
   "source": [
    " a = 20\n",
    " b = 10\n",
    "c = 15 \n",
    "d = 5\n",
    "e = 2\n",
    "f = (a+b) * c/d  "
   ]
  },
  {
   "cell_type": "code",
   "execution_count": 9,
   "id": "27032254-2989-4006-892f-7caef2978823",
   "metadata": {},
   "outputs": [
    {
     "name": "stdout",
     "output_type": "stream",
     "text": [
      "90.0\n"
     ]
    }
   ],
   "source": [
    "print(f)"
   ]
  },
  {
   "cell_type": "code",
   "execution_count": 10,
   "id": "c8a54832-dbe8-4baa-bdef-96958bf0d122",
   "metadata": {},
   "outputs": [],
   "source": [
    "g = a + ( b * c)/d -e  #"
   ]
  },
  {
   "cell_type": "code",
   "execution_count": 11,
   "id": "400afd7f-63cc-424c-9b6b-65cd815a7d92",
   "metadata": {},
   "outputs": [
    {
     "name": "stdout",
     "output_type": "stream",
     "text": [
      "48.0\n",
      "2270\n"
     ]
    }
   ],
   "source": [
    "print(g)\n",
    "h = a + b*c**e\n",
    "print(h)"
   ]
  },
  {
   "cell_type": "markdown",
   "id": "828c7b78-47a4-4447-ae9b-5d8b32b7c41a",
   "metadata": {},
   "source": [
    "# multiple assigment"
   ]
  },
  {
   "cell_type": "code",
   "execution_count": 12,
   "id": "e0b1e5f5-4887-4a59-8e06-64212ae40973",
   "metadata": {},
   "outputs": [],
   "source": [
    "a = b = c = 15\n",
    "x,y,z = 3, 5, \"Blue\""
   ]
  },
  {
   "cell_type": "code",
   "execution_count": 13,
   "id": "b20c3951-1b38-4c28-a508-437b9873b485",
   "metadata": {},
   "outputs": [
    {
     "name": "stdout",
     "output_type": "stream",
     "text": [
      "15,15,15\n",
      "3,5,Blue\n"
     ]
    }
   ],
   "source": [
    "print(a,b,c, sep = \",\")\n",
    "print(x,y,z,sep = \",\")"
   ]
  },
  {
   "cell_type": "markdown",
   "id": "9d864dab-576e-4429-a6cb-8eed6c55ca99",
   "metadata": {},
   "source": [
    "# Use of + and *"
   ]
  },
  {
   "cell_type": "code",
   "execution_count": 14,
   "id": "11c0e963-5fa0-48f1-be3e-519467c37cb1",
   "metadata": {},
   "outputs": [
    {
     "name": "stdout",
     "output_type": "stream",
     "text": [
      "Python is AWESOME \n"
     ]
    }
   ],
   "source": [
    "x = \"Python is \"\n",
    "y = \"AWESOME \"\n",
    "print( x + y)"
   ]
  },
  {
   "cell_type": "code",
   "execution_count": 15,
   "id": "39e9b37a-ec5f-4775-9812-ae2ff0ffddbb",
   "metadata": {},
   "outputs": [
    {
     "name": "stdout",
     "output_type": "stream",
     "text": [
      " i am very very  Cool\n"
     ]
    }
   ],
   "source": [
    "a = \" i am \"\n",
    "b = \"very \"\n",
    "c = \" Cool\"\n",
    "print(a + b*2 + c)"
   ]
  },
  {
   "cell_type": "code",
   "execution_count": 16,
   "id": "2b3d92f0-7c83-4d63-b22f-159e40eef412",
   "metadata": {},
   "outputs": [
    {
     "name": "stdout",
     "output_type": "stream",
     "text": [
      "it is  Very  Very  Very  Very  Very  Very Python\n"
     ]
    }
   ],
   "source": [
    "print( \"it is \" +  6 * ' Very ' + 'Python')"
   ]
  },
  {
   "cell_type": "markdown",
   "id": "40d32ea6-c906-4243-ab91-9cd3e3f76de5",
   "metadata": {},
   "source": [
    "# Use of \\\" , \\n , \\t"
   ]
  },
  {
   "cell_type": "code",
   "execution_count": 17,
   "id": "a3823165-5ac0-4aab-82c6-649941572742",
   "metadata": {},
   "outputs": [
    {
     "name": "stdout",
     "output_type": "stream",
     "text": [
      "my father says \"honesty is best policy \"\n"
     ]
    }
   ],
   "source": [
    "print(\"my father says \\\"honesty is best policy \\\"\")\n",
    "      "
   ]
  },
  {
   "cell_type": "code",
   "execution_count": 18,
   "id": "964e6aa2-fd90-4f96-9fc5-9c7cdfaee072",
   "metadata": {},
   "outputs": [
    {
     "name": "stdout",
     "output_type": "stream",
     "text": [
      "this is rohan's dog \n"
     ]
    }
   ],
   "source": [
    "print('this is rohan\\'s dog ')"
   ]
  },
  {
   "cell_type": "code",
   "execution_count": 19,
   "id": "1775e6ff-5a6b-4b4e-9891-ede8b26094d5",
   "metadata": {},
   "outputs": [
    {
     "name": "stdout",
     "output_type": "stream",
     "text": [
      "this is rohan's dog \n"
     ]
    }
   ],
   "source": [
    "print(\"this is rohan's dog \")"
   ]
  },
  {
   "cell_type": "code",
   "execution_count": 20,
   "id": "0753031f-4012-4794-bdc1-9de59189035d",
   "metadata": {},
   "outputs": [
    {
     "name": "stdout",
     "output_type": "stream",
     "text": [
      "a\tb\n"
     ]
    }
   ],
   "source": [
    "print(\"a\\tb\")  "
   ]
  },
  {
   "cell_type": "code",
   "execution_count": 21,
   "id": "98939954-fe9d-40a3-bc6e-44ad71c3b4d6",
   "metadata": {},
   "outputs": [
    {
     "name": "stdout",
     "output_type": "stream",
     "text": [
      "G\n",
      "U\n"
     ]
    }
   ],
   "source": [
    "print(\"G\\nU\")"
   ]
  },
  {
   "cell_type": "markdown",
   "id": "14011d07-1eaf-4707-a66a-2e7f3735cf1b",
   "metadata": {},
   "source": [
    "# Comments"
   ]
  },
  {
   "cell_type": "code",
   "execution_count": 22,
   "id": "16d68284-0c49-4e57-8652-070c7b9a5fc2",
   "metadata": {},
   "outputs": [
    {
     "name": "stdout",
     "output_type": "stream",
     "text": [
      "comments are : \n",
      " single line \n",
      " multiple line\n"
     ]
    }
   ],
   "source": [
    "print(\"comments are : \\n single line \\n multiple line\")"
   ]
  },
  {
   "cell_type": "code",
   "execution_count": 23,
   "id": "f8f06b8d-5227-4389-8748-165ac4cd5cf7",
   "metadata": {},
   "outputs": [],
   "source": [
    "# single line\n",
    "# single line\n",
    "# print(#comment)"
   ]
  },
  {
   "cell_type": "code",
   "execution_count": 24,
   "id": "af7d7f2a-edec-48f3-91fe-1d875ea9305c",
   "metadata": {},
   "outputs": [
    {
     "name": "stdout",
     "output_type": "stream",
     "text": [
      "GU\n"
     ]
    }
   ],
   "source": [
    "''' multi ple\n",
    "line \n",
    "comments '''\n",
    "print('GU')"
   ]
  },
  {
   "cell_type": "code",
   "execution_count": 25,
   "id": "626ba473-5c58-4e1a-8761-014e382348c8",
   "metadata": {},
   "outputs": [
    {
     "name": "stdout",
     "output_type": "stream",
     "text": [
      "Geeta University \n"
     ]
    }
   ],
   "source": [
    "\"\"\" MULTIPLE \n",
    "LINE \n",
    "COMMENT \"\"\"\n",
    "print(\"Geeta University \") "
   ]
  },
  {
   "cell_type": "markdown",
   "id": "0968d16e-a76e-48e5-8b7a-b00170dc48d1",
   "metadata": {},
   "source": [
    "# id() function , ord() function , chr() "
   ]
  },
  {
   "cell_type": "code",
   "execution_count": 26,
   "id": "b413175f-19fc-4f82-bb84-b2327183f7b2",
   "metadata": {},
   "outputs": [
    {
     "data": {
      "text/plain": [
       "140714636135976"
      ]
     },
     "execution_count": 26,
     "metadata": {},
     "output_type": "execute_result"
    }
   ],
   "source": [
    "a = 89\n",
    "id(a) # Give adres"
   ]
  },
  {
   "cell_type": "code",
   "execution_count": 27,
   "id": "307ffea5-3752-49e4-92e1-aab99602bf25",
   "metadata": {},
   "outputs": [
    {
     "data": {
      "text/plain": [
       "65"
      ]
     },
     "execution_count": 27,
     "metadata": {},
     "output_type": "execute_result"
    }
   ],
   "source": [
    "b = \"A\"\n",
    "\n",
    "ord(b) "
   ]
  },
  {
   "cell_type": "code",
   "execution_count": 28,
   "id": "6b4785e1-7e0a-4861-9942-5c1c96dde940",
   "metadata": {},
   "outputs": [],
   "source": [
    "c = 'B'"
   ]
  },
  {
   "cell_type": "code",
   "execution_count": 29,
   "id": "95022d41-2ec6-4cbe-8977-2754304134af",
   "metadata": {},
   "outputs": [
    {
     "data": {
      "text/plain": [
       "66"
      ]
     },
     "execution_count": 29,
     "metadata": {},
     "output_type": "execute_result"
    }
   ],
   "source": [
    "ord(c) # convert Single Charcter into ASCAII"
   ]
  },
  {
   "cell_type": "code",
   "execution_count": 30,
   "id": "bfdd9a49-de04-4565-a747-c19ba3205e64",
   "metadata": {},
   "outputs": [],
   "source": [
    "# variable = statically \n",
    "# value in variable = heap"
   ]
  },
  {
   "cell_type": "code",
   "execution_count": 31,
   "id": "6d683310-9867-4703-a04c-0f705a2ad75a",
   "metadata": {},
   "outputs": [
    {
     "data": {
      "text/plain": [
       "'B'"
      ]
     },
     "execution_count": 31,
     "metadata": {},
     "output_type": "execute_result"
    }
   ],
   "source": [
    "B = 66\n",
    "chr(B) # convert ASCAII value into Character"
   ]
  },
  {
   "cell_type": "markdown",
   "id": "0953dbc4-0edb-470a-9618-6a561dd91ec0",
   "metadata": {},
   "source": [
    "# Control flow structure"
   ]
  },
  {
   "cell_type": "code",
   "execution_count": 32,
   "id": "2d77ee1d-8bdd-4690-8a3d-06ae9ef519c5",
   "metadata": {},
   "outputs": [],
   "source": [
    "#indentation\n",
    "#if condition :\n",
    "#    true\n",
    "#else :\n",
    "#    false"
   ]
  },
  {
   "cell_type": "code",
   "execution_count": 33,
   "id": "8548aaff-1a6b-423a-9801-d25e8ad0ad67",
   "metadata": {},
   "outputs": [
    {
     "name": "stdin",
     "output_type": "stream",
     "text": [
      "Enter Number: 90\n"
     ]
    },
    {
     "name": "stdout",
     "output_type": "stream",
     "text": [
      "Even Number\n"
     ]
    }
   ],
   "source": [
    "b = input(\"Enter Number:\")\n",
    "num = int(b)\n",
    "if num%2 == 0:\n",
    "    print(\"Even Number\")\n",
    "else:\n",
    "    print(\"Odd number\")"
   ]
  },
  {
   "cell_type": "code",
   "execution_count": 34,
   "id": "383096ad-4a62-4bda-a141-ef57e835bdd4",
   "metadata": {},
   "outputs": [
    {
     "name": "stdin",
     "output_type": "stream",
     "text": [
      "Enter Number: 45\n"
     ]
    },
    {
     "name": "stdout",
     "output_type": "stream",
     "text": [
      "Odd number\n"
     ]
    }
   ],
   "source": [
    "a = int(input(\"Enter Number:\"))\n",
    "if a%2 == 0:\n",
    "    print(\"Even Number\")\n",
    "else:\n",
    "    print(\"Odd number\")"
   ]
  },
  {
   "cell_type": "markdown",
   "id": "632c2a01-6a39-4658-bf2c-df3a65851648",
   "metadata": {},
   "source": [
    "## Nested If Statement"
   ]
  },
  {
   "cell_type": "code",
   "execution_count": 35,
   "id": "1cd38df9-f50f-48fc-aff0-665951413ccd",
   "metadata": {},
   "outputs": [
    {
     "name": "stdin",
     "output_type": "stream",
     "text": [
      "Are you citizen of India Press y or n:  34\n",
      "Enter your age 4\n"
     ]
    },
    {
     "name": "stdout",
     "output_type": "stream",
     "text": [
      "You are not Citizen of india\n"
     ]
    }
   ],
   "source": [
    "citizen = input(\"Are you citizen of India Press y or n: \")\n",
    "age = int(input(\"Enter your age\"))\n",
    "if citizen == 'y':\n",
    "    if age >= 10:\n",
    "        print(\"You can cast Vote\")\n",
    "    else :\n",
    "        print(\"You can't Cast Vote\")\n",
    "else:\n",
    "    print(\"You are not Citizen of india\")\n"
   ]
  },
  {
   "cell_type": "markdown",
   "id": "dc8fa591-80a7-40aa-a379-ca593e696619",
   "metadata": {},
   "source": [
    "# Assignment 1"
   ]
  },
  {
   "cell_type": "code",
   "execution_count": 36,
   "id": "bf133fea-abc1-4ead-b49d-ad1144df773a",
   "metadata": {},
   "outputs": [
    {
     "name": "stdin",
     "output_type": "stream",
     "text": [
      "Enter Year: 43\n"
     ]
    },
    {
     "name": "stdout",
     "output_type": "stream",
     "text": [
      "Not leap year\n"
     ]
    }
   ],
   "source": [
    "year = int(input(\"Enter Year:\"))\n",
    "if year % 4 == 0 and year%100!=0:\n",
    "    if year%400 == 0:\n",
    "        print(\"leap year\")\n",
    "    else :\n",
    "        print(\"Leap year\")\n",
    "else:\n",
    "    print(\"Not leap year\")\n",
    "    "
   ]
  },
  {
   "cell_type": "code",
   "execution_count": null,
   "id": "d1a8b70b-83e7-46c7-949e-62f1720dc40d",
   "metadata": {},
   "outputs": [],
   "source": [
    "year=int(input(\"Enter the year:\"))\n",
    "if year%4==0:\n",
    "    if year%100==0:\n",
    "        if year%400==0:\n",
    "            print(\"Leap year\")\n",
    "        else:\n",
    "            print(\"Not a Leap year\")\n",
    "    else:\n",
    "        print(\"Leap year\")\n",
    "else:\n",
    "   print(\"Not a leap year\")"
   ]
  },
  {
   "cell_type": "markdown",
   "id": "c1646b3c-9305-458a-9a22-b3a2dba72ee2",
   "metadata": {},
   "source": [
    "# If elif statement"
   ]
  },
  {
   "cell_type": "code",
   "execution_count": null,
   "id": "6121e434-91ad-4997-b581-a8ea305041a6",
   "metadata": {},
   "outputs": [],
   "source": [
    "num = int(input(\"Enter a number:\"))\n",
    "if num > 0:\n",
    "    print(\"Positive number\")\n",
    "elif num == 0:\n",
    "    print(\"Number is neutral\")\n",
    "else:\n",
    "    print(\"Negative number\")\n",
    "    "
   ]
  },
  {
   "cell_type": "code",
   "execution_count": null,
   "id": "c6b5cc71-3ccd-47ca-b9c8-e99c8f8c8d1d",
   "metadata": {},
   "outputs": [],
   "source": [
    "# Grading System"
   ]
  },
  {
   "cell_type": "code",
   "execution_count": null,
   "id": "1d289cb8-709b-46d2-8fde-90e3e0451bd7",
   "metadata": {},
   "outputs": [],
   "source": [
    "marks = int(input(\"Enter Mark of A subject\"))\n",
    "if marks >= 90 and marks <=100:\n",
    "    print(\"A\")\n",
    "elif marks >= 80 and marks < 90:\n",
    "    print(\"B\")\n",
    "elif marks >= 70 and marks < 80:\n",
    "    print(\"C\")\n",
    "elif marks >= 60 and marks < 70:\n",
    "    print(\"D\")\n",
    "elif marks >= 50 and marks < 60 :\n",
    "    print(\"E\") \n",
    "else:\n",
    "    print(\"Bruh LOL\")"
   ]
  },
  {
   "cell_type": "code",
   "execution_count": null,
   "id": "ae385dfe-8033-408c-9c62-7f4b6fe68b09",
   "metadata": {},
   "outputs": [],
   "source": []
  }
 ],
 "metadata": {
  "kernelspec": {
   "display_name": "Python 3 (ipykernel)",
   "language": "python",
   "name": "python3"
  },
  "language_info": {
   "codemirror_mode": {
    "name": "ipython",
    "version": 3
   },
   "file_extension": ".py",
   "mimetype": "text/x-python",
   "name": "python",
   "nbconvert_exporter": "python",
   "pygments_lexer": "ipython3",
   "version": "3.11.7"
  }
 },
 "nbformat": 4,
 "nbformat_minor": 5
}
