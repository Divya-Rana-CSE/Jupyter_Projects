{
 "cells": [
  {
   "cell_type": "code",
   "execution_count": 1,
   "id": "1a3ec22d",
   "metadata": {},
   "outputs": [],
   "source": [
    "import numpy as np"
   ]
  },
  {
   "cell_type": "code",
   "execution_count": 2,
   "id": "3c518763",
   "metadata": {},
   "outputs": [],
   "source": [
    "arr = np.array([[1,2,3,4], [5,6,7,8], [9,10,11,12]])"
   ]
  },
  {
   "cell_type": "code",
   "execution_count": 3,
   "id": "67a40ce0",
   "metadata": {},
   "outputs": [
    {
     "name": "stdout",
     "output_type": "stream",
     "text": [
      "[[ 1  2  3  4]\n",
      " [ 5  6  7  8]\n",
      " [ 9 10 11 12]]\n"
     ]
    }
   ],
   "source": [
    "print(arr)"
   ]
  },
  {
   "cell_type": "code",
   "execution_count": 4,
   "id": "accc01bc",
   "metadata": {},
   "outputs": [
    {
     "data": {
      "text/plain": [
       "(3, 4)"
      ]
     },
     "execution_count": 4,
     "metadata": {},
     "output_type": "execute_result"
    }
   ],
   "source": [
    "arr.shape"
   ]
  },
  {
   "cell_type": "code",
   "execution_count": 5,
   "id": "8d661e03",
   "metadata": {},
   "outputs": [
    {
     "data": {
      "text/plain": [
       "8"
      ]
     },
     "execution_count": 5,
     "metadata": {},
     "output_type": "execute_result"
    }
   ],
   "source": [
    "#accessing specific elements of 2d array - array[rows, columns]\n",
    "arr[1,3]"
   ]
  },
  {
   "cell_type": "code",
   "execution_count": 7,
   "id": "14022352",
   "metadata": {},
   "outputs": [
    {
     "data": {
      "text/plain": [
       "array([[ 2,  3],\n",
       "       [ 6,  7],\n",
       "       [10, 11]])"
      ]
     },
     "execution_count": 7,
     "metadata": {},
     "output_type": "execute_result"
    }
   ],
   "source": [
    "arr[:, 1:3]"
   ]
  },
  {
   "cell_type": "code",
   "execution_count": 9,
   "id": "0daa5f0d",
   "metadata": {},
   "outputs": [
    {
     "name": "stdout",
     "output_type": "stream",
     "text": [
      "[[ 1  2  3  4]\n",
      " [ 5  6  7  8]\n",
      " [ 9 10 11 12]]\n"
     ]
    }
   ],
   "source": [
    "print(arr)"
   ]
  },
  {
   "cell_type": "code",
   "execution_count": 14,
   "id": "097f7ec1",
   "metadata": {},
   "outputs": [
    {
     "data": {
      "text/plain": [
       "array([[2, 3],\n",
       "       [6, 7]])"
      ]
     },
     "execution_count": 14,
     "metadata": {},
     "output_type": "execute_result"
    }
   ],
   "source": [
    "arr[0:2, 1:3]"
   ]
  },
  {
   "cell_type": "code",
   "execution_count": 24,
   "id": "11838f1c",
   "metadata": {},
   "outputs": [],
   "source": [
    "# creating all 0s matrix\n",
    "a = np.zeros((3,4), dtype = \"int32\")"
   ]
  },
  {
   "cell_type": "code",
   "execution_count": 25,
   "id": "2f7bb8ee",
   "metadata": {},
   "outputs": [
    {
     "name": "stdout",
     "output_type": "stream",
     "text": [
      "[[0 0 0 0]\n",
      " [0 0 0 0]\n",
      " [0 0 0 0]]\n"
     ]
    }
   ],
   "source": [
    "print(a)"
   ]
  },
  {
   "cell_type": "code",
   "execution_count": 26,
   "id": "87f52aae",
   "metadata": {},
   "outputs": [],
   "source": [
    "#creating all 1s matrix"
   ]
  },
  {
   "cell_type": "code",
   "execution_count": 29,
   "id": "2ab8313d",
   "metadata": {},
   "outputs": [],
   "source": [
    "b = np.ones((4,5), dtype = \"int32\")"
   ]
  },
  {
   "cell_type": "code",
   "execution_count": 30,
   "id": "6ecd5874",
   "metadata": {},
   "outputs": [
    {
     "name": "stdout",
     "output_type": "stream",
     "text": [
      "[[1 1 1 1 1]\n",
      " [1 1 1 1 1]\n",
      " [1 1 1 1 1]\n",
      " [1 1 1 1 1]]\n"
     ]
    }
   ],
   "source": [
    "print(b)"
   ]
  },
  {
   "cell_type": "code",
   "execution_count": 31,
   "id": "b30b26bb",
   "metadata": {},
   "outputs": [],
   "source": [
    "b[:, 0:3] =10"
   ]
  },
  {
   "cell_type": "code",
   "execution_count": 32,
   "id": "28b37931",
   "metadata": {},
   "outputs": [
    {
     "name": "stdout",
     "output_type": "stream",
     "text": [
      "[[10 10 10  1  1]\n",
      " [10 10 10  1  1]\n",
      " [10 10 10  1  1]\n",
      " [10 10 10  1  1]]\n"
     ]
    }
   ],
   "source": [
    "print(b)"
   ]
  },
  {
   "cell_type": "code",
   "execution_count": 33,
   "id": "a1a8ce75",
   "metadata": {},
   "outputs": [],
   "source": [
    "b[0:2, 3:5] = 4"
   ]
  },
  {
   "cell_type": "code",
   "execution_count": 34,
   "id": "ed7f83a8",
   "metadata": {},
   "outputs": [
    {
     "name": "stdout",
     "output_type": "stream",
     "text": [
      "[[10 10 10  4  4]\n",
      " [10 10 10  4  4]\n",
      " [10 10 10  1  1]\n",
      " [10 10 10  1  1]]\n"
     ]
    }
   ],
   "source": [
    "print(b)"
   ]
  },
  {
   "cell_type": "code",
   "execution_count": 35,
   "id": "849a04c2",
   "metadata": {},
   "outputs": [],
   "source": [
    "b[2:4, 3:5] = 5"
   ]
  },
  {
   "cell_type": "code",
   "execution_count": 36,
   "id": "ed20a37e",
   "metadata": {},
   "outputs": [
    {
     "name": "stdout",
     "output_type": "stream",
     "text": [
      "[[10 10 10  4  4]\n",
      " [10 10 10  4  4]\n",
      " [10 10 10  5  5]\n",
      " [10 10 10  5  5]]\n"
     ]
    }
   ],
   "source": [
    "print(b)"
   ]
  },
  {
   "cell_type": "code",
   "execution_count": 37,
   "id": "03f7ea16",
   "metadata": {},
   "outputs": [],
   "source": [
    "c = np.full(b.shape, 99)"
   ]
  },
  {
   "cell_type": "code",
   "execution_count": 38,
   "id": "05b124a7",
   "metadata": {},
   "outputs": [
    {
     "name": "stdout",
     "output_type": "stream",
     "text": [
      "[[99 99 99 99 99]\n",
      " [99 99 99 99 99]\n",
      " [99 99 99 99 99]\n",
      " [99 99 99 99 99]]\n"
     ]
    }
   ],
   "source": [
    "print(c)"
   ]
  },
  {
   "cell_type": "code",
   "execution_count": 41,
   "id": "2f0c252b",
   "metadata": {},
   "outputs": [],
   "source": [
    "d = np.full_like(c, 50)"
   ]
  },
  {
   "cell_type": "code",
   "execution_count": 42,
   "id": "e8797106",
   "metadata": {},
   "outputs": [
    {
     "name": "stdout",
     "output_type": "stream",
     "text": [
      "[[50 50 50 50 50]\n",
      " [50 50 50 50 50]\n",
      " [50 50 50 50 50]\n",
      " [50 50 50 50 50]]\n"
     ]
    }
   ],
   "source": [
    "print(d)"
   ]
  },
  {
   "cell_type": "code",
   "execution_count": 43,
   "id": "8a5ee02a",
   "metadata": {},
   "outputs": [],
   "source": [
    "n1 = np.ones((3,3), dtype = \"int32\")"
   ]
  },
  {
   "cell_type": "code",
   "execution_count": 44,
   "id": "7fadbc35",
   "metadata": {},
   "outputs": [
    {
     "name": "stdout",
     "output_type": "stream",
     "text": [
      "[[1 1 1]\n",
      " [1 1 1]\n",
      " [1 1 1]]\n"
     ]
    }
   ],
   "source": [
    "print(n1)"
   ]
  },
  {
   "cell_type": "code",
   "execution_count": 45,
   "id": "e6e8cba2",
   "metadata": {},
   "outputs": [],
   "source": [
    "n2 = np.full_like(n1, 2)"
   ]
  },
  {
   "cell_type": "code",
   "execution_count": 46,
   "id": "6bb891ba",
   "metadata": {},
   "outputs": [
    {
     "name": "stdout",
     "output_type": "stream",
     "text": [
      "[[2 2 2]\n",
      " [2 2 2]\n",
      " [2 2 2]]\n"
     ]
    }
   ],
   "source": [
    "print(n2)"
   ]
  },
  {
   "cell_type": "code",
   "execution_count": 47,
   "id": "c263efa5",
   "metadata": {},
   "outputs": [],
   "source": [
    "n3 = n1+n2"
   ]
  },
  {
   "cell_type": "code",
   "execution_count": 48,
   "id": "199f41a3",
   "metadata": {},
   "outputs": [
    {
     "name": "stdout",
     "output_type": "stream",
     "text": [
      "[[3 3 3]\n",
      " [3 3 3]\n",
      " [3 3 3]]\n"
     ]
    }
   ],
   "source": [
    "print(n3)"
   ]
  },
  {
   "cell_type": "code",
   "execution_count": 49,
   "id": "c646f05c",
   "metadata": {},
   "outputs": [],
   "source": [
    "n = n3*n2"
   ]
  },
  {
   "cell_type": "code",
   "execution_count": 50,
   "id": "dc3db3da",
   "metadata": {},
   "outputs": [
    {
     "name": "stdout",
     "output_type": "stream",
     "text": [
      "[[6 6 6]\n",
      " [6 6 6]\n",
      " [6 6 6]]\n"
     ]
    }
   ],
   "source": [
    "print(n)"
   ]
  },
  {
   "cell_type": "code",
   "execution_count": 51,
   "id": "5438f103",
   "metadata": {},
   "outputs": [],
   "source": [
    "#creating 3d array"
   ]
  },
  {
   "cell_type": "code",
   "execution_count": 52,
   "id": "86abdc89",
   "metadata": {},
   "outputs": [],
   "source": [
    "arr = np.array([[[1,2,3], [4,5,6]], [[7,8,9], [10,11,12]]])"
   ]
  },
  {
   "cell_type": "code",
   "execution_count": 53,
   "id": "6271c015",
   "metadata": {},
   "outputs": [
    {
     "name": "stdout",
     "output_type": "stream",
     "text": [
      "[[[ 1  2  3]\n",
      "  [ 4  5  6]]\n",
      "\n",
      " [[ 7  8  9]\n",
      "  [10 11 12]]]\n"
     ]
    }
   ],
   "source": [
    "print(arr)"
   ]
  },
  {
   "cell_type": "code",
   "execution_count": 54,
   "id": "ec6e94cb",
   "metadata": {},
   "outputs": [
    {
     "data": {
      "text/plain": [
       "5"
      ]
     },
     "execution_count": 54,
     "metadata": {},
     "output_type": "execute_result"
    }
   ],
   "source": [
    "arr[0, 1, 1]"
   ]
  },
  {
   "cell_type": "code",
   "execution_count": 55,
   "id": "0152faa0",
   "metadata": {},
   "outputs": [
    {
     "data": {
      "text/plain": [
       "array([[2, 3],\n",
       "       [5, 6]])"
      ]
     },
     "execution_count": 55,
     "metadata": {},
     "output_type": "execute_result"
    }
   ],
   "source": [
    "arr[0, : , 1:3]"
   ]
  },
  {
   "cell_type": "code",
   "execution_count": 56,
   "id": "dc89576b",
   "metadata": {},
   "outputs": [
    {
     "data": {
      "text/plain": [
       "array([[[ 2,  3],\n",
       "        [ 5,  6]],\n",
       "\n",
       "       [[ 8,  9],\n",
       "        [11, 12]]])"
      ]
     },
     "execution_count": 56,
     "metadata": {},
     "output_type": "execute_result"
    }
   ],
   "source": [
    "arr[:, :, 1:3]"
   ]
  },
  {
   "cell_type": "code",
   "execution_count": 57,
   "id": "9707db02",
   "metadata": {},
   "outputs": [],
   "source": [
    "arr[:, :, 1:3] = 10"
   ]
  },
  {
   "cell_type": "code",
   "execution_count": 58,
   "id": "22568678",
   "metadata": {},
   "outputs": [
    {
     "name": "stdout",
     "output_type": "stream",
     "text": [
      "[[[ 1 10 10]\n",
      "  [ 4 10 10]]\n",
      "\n",
      " [[ 7 10 10]\n",
      "  [10 10 10]]]\n"
     ]
    }
   ],
   "source": [
    "print(arr)"
   ]
  },
  {
   "cell_type": "code",
   "execution_count": 60,
   "id": "a58f6eeb",
   "metadata": {},
   "outputs": [
    {
     "name": "stdout",
     "output_type": "stream",
     "text": [
      "[ 1  2  3  4  5  6  7  8  9 10 11 12]\n"
     ]
    }
   ],
   "source": [
    "a = np.array([1,2,3,4,5,6,7,8,9,10,11,12])\n",
    "print(a)"
   ]
  },
  {
   "cell_type": "code",
   "execution_count": 61,
   "id": "dfd47d73",
   "metadata": {},
   "outputs": [],
   "source": [
    "b = a.reshape(2,6)"
   ]
  },
  {
   "cell_type": "code",
   "execution_count": 62,
   "id": "0c47c949",
   "metadata": {},
   "outputs": [
    {
     "name": "stdout",
     "output_type": "stream",
     "text": [
      "[[ 1  2  3  4  5  6]\n",
      " [ 7  8  9 10 11 12]]\n"
     ]
    }
   ],
   "source": [
    "print(b)"
   ]
  },
  {
   "cell_type": "code",
   "execution_count": 63,
   "id": "f02d3c1a",
   "metadata": {},
   "outputs": [],
   "source": [
    "c = a.reshape(3,4)"
   ]
  },
  {
   "cell_type": "code",
   "execution_count": 64,
   "id": "de154fac",
   "metadata": {},
   "outputs": [
    {
     "name": "stdout",
     "output_type": "stream",
     "text": [
      "[[ 1  2  3  4]\n",
      " [ 5  6  7  8]\n",
      " [ 9 10 11 12]]\n"
     ]
    }
   ],
   "source": [
    "print(c)"
   ]
  },
  {
   "cell_type": "code",
   "execution_count": 65,
   "id": "2aae6fdd",
   "metadata": {},
   "outputs": [
    {
     "name": "stdout",
     "output_type": "stream",
     "text": [
      "[[[ 1  2]\n",
      "  [ 3  4]\n",
      "  [ 5  6]]\n",
      "\n",
      " [[ 7  8]\n",
      "  [ 9 10]\n",
      "  [11 12]]]\n"
     ]
    }
   ],
   "source": [
    "d = a.reshape(2,3,2)\n",
    "print(d)"
   ]
  },
  {
   "cell_type": "code",
   "execution_count": 66,
   "id": "60ac4b8d",
   "metadata": {},
   "outputs": [
    {
     "name": "stdout",
     "output_type": "stream",
     "text": [
      "[ 1  2  3  4  5  6  7  8  9 10 11 12]\n"
     ]
    }
   ],
   "source": [
    "#copying an array\n",
    "x = a.copy()\n",
    "print(x)"
   ]
  },
  {
   "cell_type": "code",
   "execution_count": 67,
   "id": "2d9c52e4",
   "metadata": {},
   "outputs": [],
   "source": [
    "#copy v/s view\n",
    "x[3:6] = 10"
   ]
  },
  {
   "cell_type": "code",
   "execution_count": 68,
   "id": "0265b873",
   "metadata": {},
   "outputs": [
    {
     "name": "stdout",
     "output_type": "stream",
     "text": [
      "[ 1  2  3 10 10 10  7  8  9 10 11 12]\n"
     ]
    }
   ],
   "source": [
    "print(x)"
   ]
  },
  {
   "cell_type": "code",
   "execution_count": 69,
   "id": "bd9b805b",
   "metadata": {},
   "outputs": [
    {
     "name": "stdout",
     "output_type": "stream",
     "text": [
      "[ 1  2  3  4  5  6  7  8  9 10 11 12]\n"
     ]
    }
   ],
   "source": [
    "print(a)"
   ]
  },
  {
   "cell_type": "code",
   "execution_count": 70,
   "id": "ceddb60f",
   "metadata": {},
   "outputs": [
    {
     "name": "stdout",
     "output_type": "stream",
     "text": [
      "[ 1  2  3  4  5  6  7  8  9 10 11 12]\n"
     ]
    }
   ],
   "source": [
    "y = a.view()\n",
    "print(y)"
   ]
  },
  {
   "cell_type": "code",
   "execution_count": 71,
   "id": "43bfa5c6",
   "metadata": {},
   "outputs": [],
   "source": [
    "y[4:10] = 99"
   ]
  },
  {
   "cell_type": "code",
   "execution_count": 72,
   "id": "ef1b7f5d",
   "metadata": {},
   "outputs": [
    {
     "name": "stdout",
     "output_type": "stream",
     "text": [
      "[ 1  2  3  4 99 99 99 99 99 99 11 12]\n"
     ]
    }
   ],
   "source": [
    "print(y)"
   ]
  },
  {
   "cell_type": "code",
   "execution_count": 73,
   "id": "15da88d5",
   "metadata": {},
   "outputs": [
    {
     "name": "stdout",
     "output_type": "stream",
     "text": [
      "[ 1  2  3  4 99 99 99 99 99 99 11 12]\n"
     ]
    }
   ],
   "source": [
    "print(a)"
   ]
  },
  {
   "cell_type": "code",
   "execution_count": 75,
   "id": "fc746859",
   "metadata": {},
   "outputs": [
    {
     "name": "stdout",
     "output_type": "stream",
     "text": [
      "3\n",
      "4\n",
      "5\n",
      "6\n",
      "101\n",
      "101\n",
      "101\n",
      "101\n",
      "101\n",
      "101\n",
      "13\n",
      "14\n"
     ]
    }
   ],
   "source": [
    "#iterating array's elements\n",
    "for i in a:\n",
    "    print(i+2)"
   ]
  },
  {
   "cell_type": "code",
   "execution_count": 76,
   "id": "d128aec4",
   "metadata": {},
   "outputs": [],
   "source": [
    "#iteration in 2-d array\n",
    "b = a.reshape(4,3)"
   ]
  },
  {
   "cell_type": "code",
   "execution_count": 77,
   "id": "59f82675",
   "metadata": {},
   "outputs": [
    {
     "name": "stdout",
     "output_type": "stream",
     "text": [
      "[1 2 3]\n",
      "[ 4 99 99]\n",
      "[99 99 99]\n",
      "[99 11 12]\n"
     ]
    }
   ],
   "source": [
    "for i in b:\n",
    "    print(i)"
   ]
  },
  {
   "cell_type": "code",
   "execution_count": 78,
   "id": "1114edfe",
   "metadata": {},
   "outputs": [],
   "source": [
    "a = np.array([1,2,3,4,5])\n",
    "b = np.array([6,7,8,9,10])"
   ]
  },
  {
   "cell_type": "code",
   "execution_count": 81,
   "id": "19c55170",
   "metadata": {},
   "outputs": [],
   "source": [
    "c = np.concatenate((a,b), axis=0)"
   ]
  },
  {
   "cell_type": "code",
   "execution_count": 82,
   "id": "e91292e3",
   "metadata": {},
   "outputs": [
    {
     "name": "stdout",
     "output_type": "stream",
     "text": [
      "[ 1  2  3  4  5  6  7  8  9 10]\n"
     ]
    }
   ],
   "source": [
    "print(c)"
   ]
  },
  {
   "cell_type": "code",
   "execution_count": 83,
   "id": "ac0b3c2a",
   "metadata": {},
   "outputs": [],
   "source": [
    "#joining 2-d array\n",
    "x = np.array([[1,2,3], [4,5,6]])\n",
    "y = np.array([[7,8,9], [10,11,12]])\n"
   ]
  },
  {
   "cell_type": "code",
   "execution_count": 84,
   "id": "dc705c16",
   "metadata": {},
   "outputs": [],
   "source": [
    "z = np.concatenate((x,y), axis = 0)#0 is for rows"
   ]
  },
  {
   "cell_type": "code",
   "execution_count": 85,
   "id": "92cb0059",
   "metadata": {},
   "outputs": [
    {
     "name": "stdout",
     "output_type": "stream",
     "text": [
      "[[ 1  2  3]\n",
      " [ 4  5  6]\n",
      " [ 7  8  9]\n",
      " [10 11 12]]\n"
     ]
    }
   ],
   "source": [
    "print(z)"
   ]
  },
  {
   "cell_type": "code",
   "execution_count": 86,
   "id": "c01528a6",
   "metadata": {},
   "outputs": [
    {
     "name": "stdout",
     "output_type": "stream",
     "text": [
      "[[ 1  2  3  7  8  9]\n",
      " [ 4  5  6 10 11 12]]\n"
     ]
    }
   ],
   "source": [
    "w = np.concatenate((x,y), axis =1)\n",
    "print(w)"
   ]
  },
  {
   "cell_type": "code",
   "execution_count": 92,
   "id": "5d25c1ac",
   "metadata": {},
   "outputs": [],
   "source": [
    "#sorting an array\n",
    "arr1 = np.array([3,4,5,8,1,9,27,15,16,20,10,13])"
   ]
  },
  {
   "cell_type": "code",
   "execution_count": 88,
   "id": "41d69705",
   "metadata": {},
   "outputs": [],
   "source": [
    "arr2 = np.sort(arr1)"
   ]
  },
  {
   "cell_type": "code",
   "execution_count": 89,
   "id": "621c6684",
   "metadata": {},
   "outputs": [
    {
     "name": "stdout",
     "output_type": "stream",
     "text": [
      "[ 1  3  4  5  8  9 15 16 20 27]\n"
     ]
    }
   ],
   "source": [
    "print(arr2)"
   ]
  },
  {
   "cell_type": "code",
   "execution_count": 91,
   "id": "500bc578",
   "metadata": {},
   "outputs": [],
   "source": [
    "#sorting 2-d array"
   ]
  },
  {
   "cell_type": "code",
   "execution_count": 94,
   "id": "e8874bbb",
   "metadata": {},
   "outputs": [
    {
     "name": "stdout",
     "output_type": "stream",
     "text": [
      "[[ 3  4  5  8]\n",
      " [ 1  9 27 15]\n",
      " [16 20 10 13]]\n"
     ]
    }
   ],
   "source": [
    "a = arr1.reshape(3,4)\n",
    "print(a)"
   ]
  },
  {
   "cell_type": "code",
   "execution_count": 96,
   "id": "6af2cc22",
   "metadata": {},
   "outputs": [
    {
     "name": "stdout",
     "output_type": "stream",
     "text": [
      "[[ 3  4  5  8]\n",
      " [ 1  9 15 27]\n",
      " [10 13 16 20]]\n"
     ]
    }
   ],
   "source": [
    "b = np.sort(a)\n",
    "print(b)"
   ]
  },
  {
   "cell_type": "code",
   "execution_count": null,
   "id": "5d3c15f0",
   "metadata": {},
   "outputs": [],
   "source": []
  }
 ],
 "metadata": {
  "kernelspec": {
   "display_name": "Python 3 (ipykernel)",
   "language": "python",
   "name": "python3"
  },
  "language_info": {
   "codemirror_mode": {
    "name": "ipython",
    "version": 3
   },
   "file_extension": ".py",
   "mimetype": "text/x-python",
   "name": "python",
   "nbconvert_exporter": "python",
   "pygments_lexer": "ipython3",
   "version": "3.11.7"
  }
 },
 "nbformat": 4,
 "nbformat_minor": 5
}
