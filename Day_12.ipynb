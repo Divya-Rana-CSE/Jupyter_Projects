{
 "cells": [
  {
   "cell_type": "code",
   "execution_count": null,
   "id": "141e3d60-3d5c-4c89-9b87-454bb0f726f9",
   "metadata": {},
   "outputs": [],
   "source": [
    "alphabets = ['a',''"
   ]
  },
  {
   "cell_type": "code",
   "execution_count": null,
   "id": "c56eb3c5-4886-4016-b2cf-d1bfbc256034",
   "metadata": {},
   "outputs": [],
   "source": []
  }
 ],
 "metadata": {
  "kernelspec": {
   "display_name": "Python 3 (ipykernel)",
   "language": "python",
   "name": "python3"
  },
  "language_info": {
   "codemirror_mode": {
    "name": "ipython",
    "version": 3
   },
   "file_extension": ".py",
   "mimetype": "text/x-python",
   "name": "python",
   "nbconvert_exporter": "python",
   "pygments_lexer": "ipython3",
   "version": "3.11.7"
  }
 },
 "nbformat": 4,
 "nbformat_minor": 5
}
