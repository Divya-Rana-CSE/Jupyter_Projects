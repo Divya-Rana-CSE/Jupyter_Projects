{
 "cells": [
  {
   "cell_type": "markdown",
   "id": "c138f4aa-55bc-40a4-b563-de4033ae6ad0",
   "metadata": {},
   "source": [
    "# function\n"
   ]
  },
  {
   "cell_type": "code",
   "execution_count": 1,
   "id": "c228f6b5-9f3d-4dc6-8e0d-f0a5f9ddfaf6",
   "metadata": {},
   "outputs": [],
   "source": [
    "# it is a block code that runs when it is called"
   ]
  },
  {
   "cell_type": "code",
   "execution_count": 2,
   "id": "2b89b951-d30d-4078-ae45-e4beb69efa1e",
   "metadata": {},
   "outputs": [
    {
     "name": "stdout",
     "output_type": "stream",
     "text": [
      "Hello World!\n"
     ]
    }
   ],
   "source": [
    "# defining a function\n",
    "def hello_world():\n",
    "    print(\"Hello World!\")\n",
    "\n",
    "hello_world() # function calling"
   ]
  },
  {
   "cell_type": "code",
   "execution_count": 3,
   "id": "9e98df01-5f6c-4d02-83a3-fdca6e48d6ae",
   "metadata": {},
   "outputs": [
    {
     "name": "stdout",
     "output_type": "stream",
     "text": [
      "Hi! arman how are u?\n"
     ]
    }
   ],
   "source": [
    "# function with parameter \n",
    "def Hello(name):\n",
    "    print(f\"Hi! {name } how are u?\")\n",
    "    \n",
    "Hello(\"arman\")    "
   ]
  },
  {
   "cell_type": "code",
   "execution_count": 1,
   "id": "9ab4b201-9985-4bdd-b585-f61b16f65358",
   "metadata": {},
   "outputs": [
    {
     "name": "stdin",
     "output_type": "stream",
     "text": [
      "your first name  fi\n",
      "your last name re\n"
     ]
    },
    {
     "name": "stdout",
     "output_type": "stream",
     "text": [
      "Fi Re\n"
     ]
    }
   ],
   "source": [
    "def formatted_name(fname,lname):\n",
    "    formatted_fname = fname.title()\n",
    "    formatted_lname = lname.title()\n",
    "    print(formatted_fname,formatted_lname)\n",
    "\n",
    "first_name = input(\"your first name \")\n",
    "last_name = input(\"your last name\")\n",
    "formatted_name(first_name,last_name)"
   ]
  },
  {
   "cell_type": "markdown",
   "id": "679c4f32-7f6e-4308-a0b2-7028b3c1161e",
   "metadata": {},
   "source": [
    "# Arbitrary argument *args"
   ]
  },
  {
   "cell_type": "code",
   "execution_count": null,
   "id": "8498aa69-ee0c-4ff6-9c4c-6794f8762f5f",
   "metadata": {},
   "outputs": [],
   "source": [
    "#when u don't know how many argument will be pass by user by the function calling we use this argument"
   ]
  },
  {
   "cell_type": "code",
   "execution_count": 2,
   "id": "1fe3bc63-7826-4abe-99a3-a4ecbbf75513",
   "metadata": {},
   "outputs": [
    {
     "name": "stdout",
     "output_type": "stream",
     "text": [
      "Your eldest Kid is :Rama\n"
     ]
    }
   ],
   "source": [
    "def family(*kids): #this argument passes tuple\n",
    "    print(f\"Your eldest Kid is :{kids[0]}\")\n",
    "\n",
    "family(\"Rama\",\"shama\",\"kanha\")"
   ]
  },
  {
   "cell_type": "markdown",
   "id": "9ac97603-faca-4015-aa31-ed1b7d69c7ff",
   "metadata": {},
   "source": [
    "# def and addition "
   ]
  },
  {
   "cell_type": "code",
   "execution_count": null,
   "id": "687c251a-8527-419d-87a5-e075733a4082",
   "metadata": {},
   "outputs": [],
   "source": [
    "def add(n1 , n2):\n",
    "    print(f\"your first number is:{n1}\\nand second number {n2}\\nand addition = { n1+ n2}\")\n",
    "\n",
    "add(4,5)"
   ]
  },
  {
   "cell_type": "markdown",
   "id": "0cee6c9f-93b3-4e5d-a5cf-b165f7d4c759",
   "metadata": {},
   "source": [
    "# Lambda Function"
   ]
  },
  {
   "cell_type": "code",
   "execution_count": null,
   "id": "658968df-59b5-433f-9624-bcd8065e98ca",
   "metadata": {},
   "outputs": [],
   "source": [
    "# it is an anonymous function which can have any number of arguments but can have a single expression"
   ]
  },
  {
   "cell_type": "code",
   "execution_count": null,
   "id": "074c054c-a27c-40a9-bbf4-31d45f44552b",
   "metadata": {},
   "outputs": [],
   "source": [
    "add = lambda x,y : x+y\n",
    "add(5,10)"
   ]
  },
  {
   "cell_type": "code",
   "execution_count": null,
   "id": "87e8a4ee-0e7d-4253-a0f2-76abd511bd66",
   "metadata": {},
   "outputs": [],
   "source": [
    "add = lambda x,y,z : x+y+z\n",
    "add(5,10,11)"
   ]
  },
  {
   "cell_type": "code",
   "execution_count": null,
   "id": "dc152676-9de5-4675-9fbf-ff52793307b8",
   "metadata": {},
   "outputs": [],
   "source": [
    "def full_name(fname,lname):\n",
    "    f_name = fname.title()\n",
    "    l_name = lname.title()\n",
    "    print(f_name,l_name)\n",
    "\n",
    "first_name = input(\"Enter your first name\")\n",
    "last_name = input(\"Enter Your last name\")\n",
    "# full_name(first_name,last_name)\n",
    "# full_name(last_name,first_name)\n",
    "full_name(first_name=\" \",last_name=\" \")"
   ]
  },
  {
   "cell_type": "code",
   "execution_count": null,
   "id": "1e49cdcd-826e-4ac2-9aac-0a9a520ea285",
   "metadata": {},
   "outputs": [],
   "source": [
    "def family(child1,child2,child3):\n",
    "    print(child1,child2,child3)\n",
    "\n",
    "family(child3,child2,child1)"
   ]
  },
  {
   "cell_type": "markdown",
   "id": "516d27aa-01a2-4546-8c1a-143678df00db",
   "metadata": {},
   "source": [
    " # Default Parameter"
   ]
  },
  {
   "cell_type": "code",
   "execution_count": null,
   "id": "dd59231a-cdaa-4771-98e7-844889be549c",
   "metadata": {},
   "outputs": [],
   "source": [
    "def my_country(name = \"India\"):\n",
    "    print(f\"my country name is : { name }\")\n",
    "\n",
    "my_country()\n",
    "my_country(\"Brazil\")\n",
    "my_country(\"England\")\n",
    "# default parameter is used to pass the default argument if user forget to pass the argument , parameter"
   ]
  },
  {
   "cell_type": "code",
   "execution_count": null,
   "id": "679c4749-c0bd-420a-92f6-adb40a68309b",
   "metadata": {},
   "outputs": [],
   "source": [
    "def my_country(name = \"India\"): # default value\n",
    "    print(f\"my country name is : { name }\")\n",
    "\n",
    "my_country()"
   ]
  },
  {
   "cell_type": "markdown",
   "id": "b472f5a8-be5a-411a-b82f-9fdba59478ad",
   "metadata": {},
   "source": [
    "# return Value"
   ]
  },
  {
   "cell_type": "code",
   "execution_count": null,
   "id": "fdc0b666-dfe1-4d03-ac7d-5074bcc9b40c",
   "metadata": {},
   "outputs": [],
   "source": [
    "def add(x,y):\n",
    "    return x+y\n",
    "\n",
    "result = add(5,10)\n",
    "# print(add(10,20))4\n",
    "print(result)"
   ]
  },
  {
   "cell_type": "code",
   "execution_count": null,
   "id": "eeba9d5b-0df5-4c0e-bda8-b59caff7c66b",
   "metadata": {},
   "outputs": [],
   "source": []
  }
 ],
 "metadata": {
  "kernelspec": {
   "display_name": "Python 3 (ipykernel)",
   "language": "python",
   "name": "python3"
  },
  "language_info": {
   "codemirror_mode": {
    "name": "ipython",
    "version": 3
   },
   "file_extension": ".py",
   "mimetype": "text/x-python",
   "name": "python",
   "nbconvert_exporter": "python",
   "pygments_lexer": "ipython3",
   "version": "3.11.7"
  }
 },
 "nbformat": 4,
 "nbformat_minor": 5
}
