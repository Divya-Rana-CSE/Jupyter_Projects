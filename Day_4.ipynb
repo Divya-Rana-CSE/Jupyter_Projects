{
 "cells": [
  {
   "cell_type": "markdown",
   "id": "1b71f973-cf0f-43f7-ae01-0f1c21bda7b7",
   "metadata": {},
   "source": [
    "# Tuples"
   ]
  },
  {
   "cell_type": "code",
   "execution_count": 1,
   "id": "0c79b41a-6237-4a2b-9591-403ad2675ca3",
   "metadata": {},
   "outputs": [
    {
     "data": {
      "text/plain": [
       "('mercury', 'venus', 'earth', 'mars', 'jupiter', 'saturn', 'uranus', 'neptune')"
      ]
     },
     "execution_count": 1,
     "metadata": {},
     "output_type": "execute_result"
    }
   ],
   "source": [
    "t = (\"mercury\",\"venus\",\"earth\",\"mars\",\"jupiter\",\"saturn\",\"uranus\",\"neptune\")\n",
    "t\n",
    "# we use round braket in tuples\n",
    "# tuples are unchangable => not like lists\n",
    "# we use tuples in projects where we need to change data with permisiion "
   ]
  },
  {
   "cell_type": "code",
   "execution_count": 2,
   "id": "9b76dd77-717c-4298-b542-3af5b51a710c",
   "metadata": {},
   "outputs": [],
   "source": [
    "# t[2] = \"moon\" # tuples are always unchangable"
   ]
  },
  {
   "cell_type": "code",
   "execution_count": 3,
   "id": "ae38eef3-de17-45ee-95b6-42c43ac29daf",
   "metadata": {},
   "outputs": [],
   "source": [
    "list1 = [\"mercury\",\"venus\",\"earth\",\"mars\",\"jupiter\",\"saturn\",\"uranus\",\"neptune\"]"
   ]
  },
  {
   "cell_type": "code",
   "execution_count": 4,
   "id": "5148b57e-8276-4dc2-868b-1e6c6da27150",
   "metadata": {},
   "outputs": [
    {
     "data": {
      "text/plain": [
       "['mercury', 'venus', 'earth', 'mars', 'jupiter', 'saturn', 'uranus', 'neptune']"
      ]
     },
     "execution_count": 4,
     "metadata": {},
     "output_type": "execute_result"
    }
   ],
   "source": [
    "list1"
   ]
  },
  {
   "cell_type": "code",
   "execution_count": 5,
   "id": "16807c27-6685-4a9c-858f-aab4f9bea28a",
   "metadata": {},
   "outputs": [
    {
     "data": {
      "text/plain": [
       "['mercury', 'venus', 'moon', 'mars', 'jupiter', 'saturn', 'uranus', 'neptune']"
      ]
     },
     "execution_count": 5,
     "metadata": {},
     "output_type": "execute_result"
    }
   ],
   "source": [
    "list1[2]= \"moon\"\n",
    "list1"
   ]
  },
  {
   "cell_type": "code",
   "execution_count": 6,
   "id": "42747b02-cd8f-47ef-83a3-5e046c1b795b",
   "metadata": {},
   "outputs": [
    {
     "data": {
      "text/plain": [
       "5"
      ]
     },
     "execution_count": 6,
     "metadata": {},
     "output_type": "execute_result"
    }
   ],
   "source": [
    "t1 = (5)\n",
    "t1"
   ]
  },
  {
   "cell_type": "code",
   "execution_count": 7,
   "id": "1ca643c4-2095-4b58-a2fd-524abc43dfa9",
   "metadata": {},
   "outputs": [],
   "source": [
    "type(t1)\n",
    "# by deegfualt single element in tuplet is int\n",
    "t2=(5,)"
   ]
  },
  {
   "cell_type": "code",
   "execution_count": 8,
   "id": "15ba209e-f599-4184-8524-b682e2f3063b",
   "metadata": {},
   "outputs": [
    {
     "data": {
      "text/plain": [
       "(5,)"
      ]
     },
     "execution_count": 8,
     "metadata": {},
     "output_type": "execute_result"
    }
   ],
   "source": [
    "t2"
   ]
  },
  {
   "cell_type": "code",
   "execution_count": 9,
   "id": "119a6505-05be-4f1d-9022-de993452e736",
   "metadata": {},
   "outputs": [
    {
     "data": {
      "text/plain": [
       "tuple"
      ]
     },
     "execution_count": 9,
     "metadata": {},
     "output_type": "execute_result"
    }
   ],
   "source": [
    "type(t2)\n",
    "# we have to add \" , \" to make single elemnt tuple"
   ]
  },
  {
   "cell_type": "markdown",
   "id": "08249e4e-198e-469c-9eed-01596b62e2d7",
   "metadata": {},
   "source": [
    "# Empty tuple"
   ]
  },
  {
   "cell_type": "code",
   "execution_count": 10,
   "id": "73639da2-26ae-4bd3-b28f-7ece15e7f108",
   "metadata": {},
   "outputs": [],
   "source": [
    "t3 = ()"
   ]
  },
  {
   "cell_type": "code",
   "execution_count": 11,
   "id": "f47a1116-d1fb-49be-8aed-d5af881549a8",
   "metadata": {},
   "outputs": [
    {
     "data": {
      "text/plain": [
       "()"
      ]
     },
     "execution_count": 11,
     "metadata": {},
     "output_type": "execute_result"
    }
   ],
   "source": [
    "t3"
   ]
  },
  {
   "cell_type": "code",
   "execution_count": 12,
   "id": "a14a4f80-b1d6-44cf-9664-8d894f85c056",
   "metadata": {},
   "outputs": [
    {
     "data": {
      "text/plain": [
       "tuple"
      ]
     },
     "execution_count": 12,
     "metadata": {},
     "output_type": "execute_result"
    }
   ],
   "source": [
    "type(t3)"
   ]
  },
  {
   "cell_type": "markdown",
   "id": "3fabfaa7-5464-4da6-87e3-5dce8cded5f6",
   "metadata": {},
   "source": [
    "# Making Mutable Tuple"
   ]
  },
  {
   "cell_type": "code",
   "execution_count": 13,
   "id": "cdcf4ddf-4b42-4711-9bf8-b4b0fec641cd",
   "metadata": {},
   "outputs": [],
   "source": [
    "# when we insert a list in tuple we can chnage the elemnets of list but not tuples"
   ]
  },
  {
   "cell_type": "code",
   "execution_count": 14,
   "id": "4d112a35-8989-4fa1-b64f-aa9540eb70f0",
   "metadata": {},
   "outputs": [],
   "source": [
    "fruits = (['orange','mango'],\"banana\",\"papaya\",\"apple\",)"
   ]
  },
  {
   "cell_type": "code",
   "execution_count": 15,
   "id": "89ccc6ee-44b5-4a2e-b328-1d277b5fb811",
   "metadata": {},
   "outputs": [
    {
     "data": {
      "text/plain": [
       "(['orange', 'mango'], 'banana', 'papaya', 'apple')"
      ]
     },
     "execution_count": 15,
     "metadata": {},
     "output_type": "execute_result"
    }
   ],
   "source": [
    "fruits"
   ]
  },
  {
   "cell_type": "code",
   "execution_count": 16,
   "id": "842f3ab2-eb53-4200-a116-3fd0428b95c5",
   "metadata": {},
   "outputs": [
    {
     "data": {
      "text/plain": [
       "['orange', 'mango']"
      ]
     },
     "execution_count": 16,
     "metadata": {},
     "output_type": "execute_result"
    }
   ],
   "source": [
    "fruits[0] "
   ]
  },
  {
   "cell_type": "code",
   "execution_count": 17,
   "id": "9a3d0361-f6db-487f-84f0-6b34e36b0104",
   "metadata": {},
   "outputs": [],
   "source": [
    "fruits[0][0] = 'grapes'"
   ]
  },
  {
   "cell_type": "code",
   "execution_count": 18,
   "id": "a2c1340a-6158-474e-a5de-7e6fbee015f7",
   "metadata": {},
   "outputs": [
    {
     "data": {
      "text/plain": [
       "'banana'"
      ]
     },
     "execution_count": 18,
     "metadata": {},
     "output_type": "execute_result"
    }
   ],
   "source": [
    "fruits[1]"
   ]
  },
  {
   "cell_type": "code",
   "execution_count": 19,
   "id": "304d3665-91ef-4f4f-88d4-66c8d6929176",
   "metadata": {},
   "outputs": [
    {
     "data": {
      "text/plain": [
       "['grapes', 'mango']"
      ]
     },
     "execution_count": 19,
     "metadata": {},
     "output_type": "execute_result"
    }
   ],
   "source": [
    "fruits[0]"
   ]
  },
  {
   "cell_type": "markdown",
   "id": "64476689-27ab-4572-8c42-a2026a4fb25e",
   "metadata": {},
   "source": [
    "# Unpacking of tuple"
   ]
  },
  {
   "cell_type": "code",
   "execution_count": 20,
   "id": "6560bd0c-f46f-4d70-a2af-1480a098db4a",
   "metadata": {},
   "outputs": [
    {
     "data": {
      "text/plain": [
       "[['grapes', 'mango'], 'banana', 'papaya', 'apple']"
      ]
     },
     "execution_count": 20,
     "metadata": {},
     "output_type": "execute_result"
    }
   ],
   "source": [
    "list(fruits) # unpacking = to know the elements of tuple to use it further"
   ]
  },
  {
   "cell_type": "code",
   "execution_count": 21,
   "id": "fd05edc3-fefd-444d-bca0-8a6bc64a21ce",
   "metadata": {},
   "outputs": [],
   "source": [
    "# with for loop"
   ]
  },
  {
   "cell_type": "code",
   "execution_count": 22,
   "id": "a1191ad5-fc0f-4dff-94e9-b560b327a8de",
   "metadata": {},
   "outputs": [
    {
     "name": "stdout",
     "output_type": "stream",
     "text": [
      "['grapes', 'mango']\n",
      "banana\n",
      "papaya\n",
      "apple\n"
     ]
    }
   ],
   "source": [
    "for i in fruits:\n",
    "    print(i)"
   ]
  },
  {
   "cell_type": "markdown",
   "id": "546f67d7-047a-45f0-a8af-4a8282a4309a",
   "metadata": {},
   "source": [
    "# functions of tuples"
   ]
  },
  {
   "cell_type": "code",
   "execution_count": 23,
   "id": "a0eb52aa-78c1-48af-a958-a111c54ace67",
   "metadata": {},
   "outputs": [
    {
     "data": {
      "text/plain": [
       "1"
      ]
     },
     "execution_count": 23,
     "metadata": {},
     "output_type": "execute_result"
    }
   ],
   "source": [
    "fruits.count('apple')"
   ]
  },
  {
   "cell_type": "code",
   "execution_count": 24,
   "id": "0d807117-5137-4027-8445-c07ac2f32a07",
   "metadata": {},
   "outputs": [
    {
     "data": {
      "text/plain": [
       "3"
      ]
     },
     "execution_count": 24,
     "metadata": {},
     "output_type": "execute_result"
    }
   ],
   "source": [
    "fruits.index('apple')"
   ]
  },
  {
   "cell_type": "markdown",
   "id": "0e961400-bc84-4c1f-8eff-2bbd7d44a91e",
   "metadata": {},
   "source": [
    "# concetinating Tuples"
   ]
  },
  {
   "cell_type": "code",
   "execution_count": 25,
   "id": "8f85ed59-54d8-41d5-acc1-c171e2d91749",
   "metadata": {},
   "outputs": [],
   "source": [
    "price=(20,30,40)\n",
    "fruits_price = fruits+price"
   ]
  },
  {
   "cell_type": "code",
   "execution_count": 26,
   "id": "32c0123a-99b5-450a-bc35-16c0338916ac",
   "metadata": {},
   "outputs": [
    {
     "data": {
      "text/plain": [
       "0"
      ]
     },
     "execution_count": 26,
     "metadata": {},
     "output_type": "execute_result"
    }
   ],
   "source": [
    "fruits_price.index(['grapes', 'mango'])"
   ]
  },
  {
   "cell_type": "markdown",
   "id": "b2cdf2fa-5530-43ec-a066-e1fa667934fb",
   "metadata": {},
   "source": [
    "# Project for Tuples And List"
   ]
  },
  {
   "cell_type": "code",
   "execution_count": 27,
   "id": "ade19515-c9d7-4d22-ae74-31cc0959d045",
   "metadata": {},
   "outputs": [],
   "source": [
    "from random import shuffle"
   ]
  },
  {
   "cell_type": "markdown",
   "id": "dc85c8f9-66e8-42fd-8147-a46a3cf1e200",
   "metadata": {},
   "source": [
    "# Dictionaries"
   ]
  },
  {
   "cell_type": "code",
   "execution_count": 28,
   "id": "9e84b0ac-4743-4717-922c-975e39b529c9",
   "metadata": {},
   "outputs": [],
   "source": [
    "fruits = {'apple' : 120,'mango' : 140,'papaya': 130}"
   ]
  },
  {
   "cell_type": "code",
   "execution_count": 29,
   "id": "8b97640b-3476-4cde-a728-66ce11eda989",
   "metadata": {},
   "outputs": [
    {
     "data": {
      "text/plain": [
       "{'apple': 120, 'mango': 140, 'papaya': 130}"
      ]
     },
     "execution_count": 29,
     "metadata": {},
     "output_type": "execute_result"
    }
   ],
   "source": [
    "fruits"
   ]
  },
  {
   "cell_type": "code",
   "execution_count": 30,
   "id": "338b5f7d-9fe7-4dfa-9e09-fcafc9e7b3a1",
   "metadata": {},
   "outputs": [],
   "source": [
    "fruits['apple'] = 140"
   ]
  },
  {
   "cell_type": "code",
   "execution_count": 31,
   "id": "2207e831-446a-479d-a255-35097979a70a",
   "metadata": {},
   "outputs": [
    {
     "data": {
      "text/plain": [
       "{'apple': 140, 'mango': 140, 'papaya': 130}"
      ]
     },
     "execution_count": 31,
     "metadata": {},
     "output_type": "execute_result"
    }
   ],
   "source": [
    "fruits"
   ]
  },
  {
   "cell_type": "code",
   "execution_count": 32,
   "id": "3ef66edd-38ce-4c38-9c7e-ef97e9018c71",
   "metadata": {},
   "outputs": [],
   "source": [
    "# accessing data items from dictionary "
   ]
  },
  {
   "cell_type": "code",
   "execution_count": 33,
   "id": "a8e7741a-7d7b-4578-8930-899efab95780",
   "metadata": {},
   "outputs": [
    {
     "name": "stdout",
     "output_type": "stream",
     "text": [
      "apple\n",
      "mango\n",
      "papaya\n"
     ]
    }
   ],
   "source": [
    "for i in fruits:\n",
    "    print(i)"
   ]
  },
  {
   "cell_type": "code",
   "execution_count": 34,
   "id": "9b747cfc-d3f3-4827-bd41-712e43d807a4",
   "metadata": {},
   "outputs": [
    {
     "name": "stdout",
     "output_type": "stream",
     "text": [
      "140\n",
      "140\n",
      "130\n"
     ]
    }
   ],
   "source": [
    "# accessing values of dictionary\n",
    "for i in fruits:\n",
    "    print(fruits[i])"
   ]
  },
  {
   "cell_type": "code",
   "execution_count": 35,
   "id": "67104e78-cf86-47d1-a12b-90e898e280e3",
   "metadata": {},
   "outputs": [
    {
     "name": "stdout",
     "output_type": "stream",
     "text": [
      "apple 140\n",
      "mango 140\n",
      "papaya 130\n"
     ]
    }
   ],
   "source": [
    "for key , value in fruits.items():\n",
    "    print(key , value)"
   ]
  },
  {
   "cell_type": "code",
   "execution_count": 36,
   "id": "ef4fb888-afed-46e7-a6db-eeda9c19d1b2",
   "metadata": {},
   "outputs": [],
   "source": [
    "# iteration : through loops we can aceess key and value"
   ]
  },
  {
   "cell_type": "markdown",
   "id": "0bcb2615-6528-4f7b-934b-f323b865b5fc",
   "metadata": {},
   "source": [
    "# Functions of Meditation"
   ]
  },
  {
   "cell_type": "code",
   "execution_count": 38,
   "id": "3d1ecada-7ad0-48db-80e5-1cd3b15d5c20",
   "metadata": {},
   "outputs": [
    {
     "data": {
      "text/plain": [
       "dict_keys(['apple', 'mango', 'papaya'])"
      ]
     },
     "execution_count": 38,
     "metadata": {},
     "output_type": "execute_result"
    }
   ],
   "source": [
    "fruits.keys()"
   ]
  },
  {
   "cell_type": "code",
   "execution_count": 39,
   "id": "4b7216e6-bbcb-4c9e-99d6-94ad0f823a5f",
   "metadata": {},
   "outputs": [
    {
     "data": {
      "text/plain": [
       "dict_values([140, 140, 130])"
      ]
     },
     "execution_count": 39,
     "metadata": {},
     "output_type": "execute_result"
    }
   ],
   "source": [
    "fruits.values()"
   ]
  },
  {
   "cell_type": "code",
   "execution_count": 40,
   "id": "14e8a364-b517-4610-af5d-357e46029ed4",
   "metadata": {},
   "outputs": [
    {
     "data": {
      "text/plain": [
       "dict_items([('apple', 140), ('mango', 140), ('papaya', 130)])"
      ]
     },
     "execution_count": 40,
     "metadata": {},
     "output_type": "execute_result"
    }
   ],
   "source": [
    "fruits.items()"
   ]
  },
  {
   "cell_type": "markdown",
   "id": "ed8c330e-694b-426f-9607-c9a6a56e9e7e",
   "metadata": {},
   "source": [
    "# Empty Dictionry"
   ]
  },
  {
   "cell_type": "code",
   "execution_count": 41,
   "id": "3f99245b-72f6-470d-b778-14bff2d6c75f",
   "metadata": {},
   "outputs": [],
   "source": [
    "empty = {}"
   ]
  },
  {
   "cell_type": "code",
   "execution_count": 42,
   "id": "f673440a-c53a-4eee-a3d9-dc4e7793659f",
   "metadata": {},
   "outputs": [
    {
     "data": {
      "text/plain": [
       "{}"
      ]
     },
     "execution_count": 42,
     "metadata": {},
     "output_type": "execute_result"
    }
   ],
   "source": [
    "empty"
   ]
  },
  {
   "cell_type": "code",
   "execution_count": 50,
   "id": "01a63f9d-82f5-454a-9b72-acfd2d914620",
   "metadata": {},
   "outputs": [
    {
     "name": "stdin",
     "output_type": "stream",
     "text": [
      "Enter your name reena\n"
     ]
    },
    {
     "name": "stdout",
     "output_type": "stream",
     "text": [
      "{'r': 1, 'e': 2, 'n': 1, 'a': 1}\n"
     ]
    }
   ],
   "source": [
    "name = input(\"Enter your name\")\n",
    "freq = {}\n",
    "for i in name :\n",
    "    if i not in freq:\n",
    "        freq[i] = 1\n",
    "    else:\n",
    "        freq[i] += 1\n",
    "print(freq)        "
   ]
  },
  {
   "cell_type": "code",
   "execution_count": null,
   "id": "a45ef44c-cf38-4b68-9ba8-709abc8a93ed",
   "metadata": {},
   "outputs": [],
   "source": []
  }
 ],
 "metadata": {
  "kernelspec": {
   "display_name": "Python 3 (ipykernel)",
   "language": "python",
   "name": "python3"
  },
  "language_info": {
   "codemirror_mode": {
    "name": "ipython",
    "version": 3
   },
   "file_extension": ".py",
   "mimetype": "text/x-python",
   "name": "python",
   "nbconvert_exporter": "python",
   "pygments_lexer": "ipython3",
   "version": "3.11.7"
  }
 },
 "nbformat": 4,
 "nbformat_minor": 5
}
