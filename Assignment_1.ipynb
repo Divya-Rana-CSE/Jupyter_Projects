{
 "cells": [
  {
   "cell_type": "markdown",
   "id": "8b034aff-5776-4fdc-994f-5d6b5b7f4779",
   "metadata": {},
   "source": [
    "# Prime Finder"
   ]
  },
  {
   "cell_type": "code",
   "execution_count": null,
   "id": "18a2b4f7-1c4e-42c5-8eb6-968bfbe555ba",
   "metadata": {},
   "outputs": [],
   "source": [
    "n = int(input(\"Enter an Integer\"))\n",
    "m = range(2,n)\n",
    "T = True\n",
    "F = False\n",
    "\n",
    "for i in m:\n",
    "    if n%i == 0:\n",
    "        print(F) \n",
    "        break\n",
    "    else:\n",
    "        print(T)\n",
    "        break"
   ]
  },
  {
   "cell_type": "markdown",
   "id": "6259e3e8-aff8-479f-b2c2-466cf163a4ef",
   "metadata": {},
   "source": [
    "# Pattern Format"
   ]
  },
  {
   "cell_type": "code",
   "execution_count": 14,
   "id": "a5894a17-4d92-415f-8037-a1d999c2c857",
   "metadata": {},
   "outputs": [
    {
     "name": "stdin",
     "output_type": "stream",
     "text": [
      "Enter The number of Rows : 4\n"
     ]
    }
   ],
   "source": [
    "n = int(input(\"Enter The number of Rows :\"))\n",
    "# m = range(i,n+1)\n",
    "for i in range(i,n+1):\n",
    "    for j in range(n-i):\n",
    "        print(\" \",end=\"\")\n",
    "        \n",
    "    for k in range(1,2*i):\n",
    "        print(\"*\",end = \"\")\n",
    "    print()    \n"
   ]
  },
  {
   "cell_type": "code",
   "execution_count": 22,
   "id": "31521c9b-eece-443a-930c-e6b88ccfa9a7",
   "metadata": {},
   "outputs": [
    {
     "name": "stdin",
     "output_type": "stream",
     "text": [
      "Enter no.of Stars 3\n"
     ]
    },
    {
     "name": "stdout",
     "output_type": "stream",
     "text": [
      "  * \n",
      " *** \n",
      "***** \n"
     ]
    }
   ],
   "source": [
    "num = int(input(\"Enter no.of Stars\"))\n",
    "for i in range(1,num+1):\n",
    "    for j in range(num-i):\n",
    "        print(\" \" , end=\"\")\n",
    "    for k in range(1,2*i):\n",
    "        print(\"*\", end=\"\")\n",
    "    print(\" \")"
   ]
  },
  {
   "cell_type": "code",
   "execution_count": 21,
   "id": "63e15230-030e-4802-8fe8-8533419e4349",
   "metadata": {},
   "outputs": [
    {
     "name": "stdout",
     "output_type": "stream",
     "text": [
      "1\n",
      "2\n",
      "3\n",
      "4\n",
      "5\n"
     ]
    }
   ],
   "source": [
    "m =range(1,6)\n",
    "for i in range(1,6):\n",
    "    print(i)"
   ]
  },
  {
   "cell_type": "code",
   "execution_count": 27,
   "id": "133ac129-ac96-4c29-8509-90944386b325",
   "metadata": {},
   "outputs": [
    {
     "name": "stdout",
     "output_type": "stream",
     "text": [
      "*\n",
      "*\n",
      "*\n",
      "*\n"
     ]
    }
   ],
   "source": [
    "# num = int(input(\"Enter no.of Stars\"))\n",
    "for j in range(5-1):\n",
    "    print(\"*\")"
   ]
  },
  {
   "cell_type": "code",
   "execution_count": null,
   "id": "dadefa19-5494-4589-a98d-32023cc23f10",
   "metadata": {},
   "outputs": [],
   "source": []
  }
 ],
 "metadata": {
  "kernelspec": {
   "display_name": "Python 3 (ipykernel)",
   "language": "python",
   "name": "python3"
  },
  "language_info": {
   "codemirror_mode": {
    "name": "ipython",
    "version": 3
   },
   "file_extension": ".py",
   "mimetype": "text/x-python",
   "name": "python",
   "nbconvert_exporter": "python",
   "pygments_lexer": "ipython3",
   "version": "3.11.7"
  }
 },
 "nbformat": 4,
 "nbformat_minor": 5
}
