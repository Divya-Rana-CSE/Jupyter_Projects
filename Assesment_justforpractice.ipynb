{
 "cells": [
  {
   "cell_type": "code",
   "execution_count": 1,
   "id": "34a544a7-23d6-4f4f-a647-57bc53e5b98c",
   "metadata": {},
   "outputs": [],
   "source": [
    "student = {\n",
    "  \"name\": \"Emma\",\n",
    "  \"class\": 9,\n",
    "  \"marks\": 75\n",
    "}"
   ]
  },
  {
   "cell_type": "code",
   "execution_count": 2,
   "id": "70c9c9f8-691a-43ae-9469-c2e1c5d6496a",
   "metadata": {},
   "outputs": [],
   "source": [
    "m = student.get(2)"
   ]
  },
  {
   "cell_type": "code",
   "execution_count": 3,
   "id": "9984275d-f156-482e-bce9-eee826b24034",
   "metadata": {},
   "outputs": [],
   "source": [
    "m = student.get('marks')"
   ]
  },
  {
   "cell_type": "code",
   "execution_count": null,
   "id": "3747b0b8-ff83-434d-af65-c4e588a45112",
   "metadata": {},
   "outputs": [],
   "source": []
  }
 ],
 "metadata": {
  "kernelspec": {
   "display_name": "Python 3 (ipykernel)",
   "language": "python",
   "name": "python3"
  },
  "language_info": {
   "codemirror_mode": {
    "name": "ipython",
    "version": 3
   },
   "file_extension": ".py",
   "mimetype": "text/x-python",
   "name": "python",
   "nbconvert_exporter": "python",
   "pygments_lexer": "ipython3",
   "version": "3.11.7"
  }
 },
 "nbformat": 4,
 "nbformat_minor": 5
}
