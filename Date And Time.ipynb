{
 "cells": [
  {
   "cell_type": "markdown",
   "id": "3d08e6a8-e7f6-4913-915d-28825a92a136",
   "metadata": {},
   "source": [
    "# Date And Time"
   ]
  },
  {
   "cell_type": "code",
   "execution_count": 1,
   "id": "787f5ffc-8171-4535-898a-01af2cf2f4ef",
   "metadata": {},
   "outputs": [],
   "source": [
    "import pandas as pd\n",
    "import datetime as dt"
   ]
  },
  {
   "cell_type": "code",
   "execution_count": 2,
   "id": "559ff41a-9ed4-48c5-a763-3cdb2a911d6e",
   "metadata": {},
   "outputs": [
    {
     "data": {
      "text/plain": [
       "datetime.date(2024, 7, 4)"
      ]
     },
     "execution_count": 2,
     "metadata": {},
     "output_type": "execute_result"
    }
   ],
   "source": [
    "today = dt.date(2024,7,4)\n",
    "today"
   ]
  },
  {
   "cell_type": "code",
   "execution_count": 3,
   "id": "ef068e21-bbea-4496-a5f6-ca3f230fafd6",
   "metadata": {},
   "outputs": [
    {
     "name": "stdout",
     "output_type": "stream",
     "text": [
      "2024-07-04\n"
     ]
    }
   ],
   "source": [
    "print(today)"
   ]
  },
  {
   "cell_type": "code",
   "execution_count": 4,
   "id": "5222d2cf-13cd-4fcb-b17d-3b60eb4b1899",
   "metadata": {},
   "outputs": [
    {
     "data": {
      "text/plain": [
       "4"
      ]
     },
     "execution_count": 4,
     "metadata": {},
     "output_type": "execute_result"
    }
   ],
   "source": [
    "today.day"
   ]
  },
  {
   "cell_type": "code",
   "execution_count": 5,
   "id": "8fe6c49d-62ad-4a98-829c-ddf566687060",
   "metadata": {},
   "outputs": [
    {
     "data": {
      "text/plain": [
       "7"
      ]
     },
     "execution_count": 5,
     "metadata": {},
     "output_type": "execute_result"
    }
   ],
   "source": [
    "today.month"
   ]
  },
  {
   "cell_type": "code",
   "execution_count": 6,
   "id": "848e362b-0bda-473b-8c9b-285d671d9dae",
   "metadata": {},
   "outputs": [
    {
     "data": {
      "text/plain": [
       "2024"
      ]
     },
     "execution_count": 6,
     "metadata": {},
     "output_type": "execute_result"
    }
   ],
   "source": [
    "today.year"
   ]
  },
  {
   "cell_type": "code",
   "execution_count": 7,
   "id": "97a2f5f7-b30e-41d2-a1d4-d790ee941939",
   "metadata": {},
   "outputs": [],
   "source": [
    "today=dt.datetime(2024,7,4,10,38)"
   ]
  },
  {
   "cell_type": "code",
   "execution_count": 8,
   "id": "bf771a5b-1d68-4b6f-87af-e7c8176f2f17",
   "metadata": {},
   "outputs": [
    {
     "data": {
      "text/plain": [
       "datetime.datetime(2024, 7, 4, 10, 38)"
      ]
     },
     "execution_count": 8,
     "metadata": {},
     "output_type": "execute_result"
    }
   ],
   "source": [
    "today"
   ]
  },
  {
   "cell_type": "code",
   "execution_count": 9,
   "id": "4877c426-ab74-493a-94e5-6ab49c3fe3aa",
   "metadata": {},
   "outputs": [
    {
     "data": {
      "text/plain": [
       "Timestamp('2024-07-04 10:41:31')"
      ]
     },
     "execution_count": 9,
     "metadata": {},
     "output_type": "execute_result"
    }
   ],
   "source": [
    "pd.Timestamp(\"2024/07/04 /10:41:31\")"
   ]
  },
  {
   "cell_type": "code",
   "execution_count": 10,
   "id": "6b50bfaf-7f87-4ab3-a02d-561e4dc22b60",
   "metadata": {},
   "outputs": [],
   "source": [
    "dateindex =  pd.DatetimeIndex(['2024/07/04', '2024/07/03', '2024/07/02' , '2024/07/01'])\n"
   ]
  },
  {
   "cell_type": "code",
   "execution_count": 11,
   "id": "6c8e3aff-d368-43b8-aa44-52dd6843325c",
   "metadata": {},
   "outputs": [],
   "source": [
    "temp = [35,46,78,65]"
   ]
  },
  {
   "cell_type": "code",
   "execution_count": 12,
   "id": "abb9ecc0-3dd4-4a86-86eb-55c032299fac",
   "metadata": {},
   "outputs": [
    {
     "data": {
      "text/plain": [
       "2024-07-04    35\n",
       "2024-07-03    46\n",
       "2024-07-02    78\n",
       "2024-07-01    65\n",
       "dtype: int64"
      ]
     },
     "execution_count": 12,
     "metadata": {},
     "output_type": "execute_result"
    }
   ],
   "source": [
    "temp_day = pd.Series(data = temp, index = dateindex)\n",
    "temp_day"
   ]
  },
  {
   "cell_type": "code",
   "execution_count": 13,
   "id": "34d0394c-7ad6-4422-91e6-19faa7d41ae7",
   "metadata": {},
   "outputs": [
    {
     "name": "stderr",
     "output_type": "stream",
     "text": [
      "C:\\Users\\hp\\AppData\\Local\\Temp\\ipykernel_26980\\2949457701.py:1: UserWarning: The argument 'infer_datetime_format' is deprecated and will be removed in a future version. A strict version of it is now the default, see https://pandas.pydata.org/pdeps/0004-consistent-to-datetime-parsing.html. You can safely remove this argument.\n",
      "  pd.to_datetime(['july 4 2004','2024/07/04','6th dec 2023','today'],infer_datetime_format = True, errors = 'ignore' )\n",
      "C:\\Users\\hp\\AppData\\Local\\Temp\\ipykernel_26980\\2949457701.py:1: UserWarning: Could not infer format, so each element will be parsed individually, falling back to `dateutil`. To ensure parsing is consistent and as-expected, please specify a format.\n",
      "  pd.to_datetime(['july 4 2004','2024/07/04','6th dec 2023','today'],infer_datetime_format = True, errors = 'ignore' )\n"
     ]
    },
    {
     "data": {
      "text/plain": [
       "DatetimeIndex([       '2004-07-04 00:00:00',        '2024-07-04 00:00:00',\n",
       "                      '2023-12-06 00:00:00', '2024-07-04 11:27:02.465110'],\n",
       "              dtype='datetime64[ns]', freq=None)"
      ]
     },
     "execution_count": 13,
     "metadata": {},
     "output_type": "execute_result"
    }
   ],
   "source": [
    "pd.to_datetime(['july 4 2004','2024/07/04','6th dec 2023','today'],infer_datetime_format = True, errors = 'ignore' )"
   ]
  },
  {
   "cell_type": "code",
   "execution_count": 14,
   "id": "c52c3616-60e5-412f-860d-6eb18140a85f",
   "metadata": {},
   "outputs": [
    {
     "data": {
      "text/plain": [
       "DatetimeIndex(['2024-07-07', '2024-07-14', '2024-07-21', '2024-07-28',\n",
       "               '2024-08-04', '2024-08-11', '2024-08-18', '2024-08-25',\n",
       "               '2024-09-01', '2024-09-08', '2024-09-15', '2024-09-22',\n",
       "               '2024-09-29', '2024-10-06', '2024-10-13', '2024-10-20',\n",
       "               '2024-10-27', '2024-11-03', '2024-11-10', '2024-11-17',\n",
       "               '2024-11-24', '2024-12-01', '2024-12-08', '2024-12-15'],\n",
       "              dtype='datetime64[ns]', freq='W-SUN')"
      ]
     },
     "execution_count": 14,
     "metadata": {},
     "output_type": "execute_result"
    }
   ],
   "source": [
    "pd.date_range(start = '2024/07/04', end = '2024/12/15' , freq = 'W')  # W = week"
   ]
  },
  {
   "cell_type": "code",
   "execution_count": 15,
   "id": "624fae53-d29c-41fa-b632-431f0fc54ca8",
   "metadata": {},
   "outputs": [
    {
     "data": {
      "text/plain": [
       "DatetimeIndex(['2024-07-04', '2024-07-06', '2024-07-08', '2024-07-10',\n",
       "               '2024-07-12', '2024-07-14', '2024-07-16', '2024-07-18',\n",
       "               '2024-07-20', '2024-07-22',\n",
       "               ...\n",
       "               '2025-06-15', '2025-06-17', '2025-06-19', '2025-06-21',\n",
       "               '2025-06-23', '2025-06-25', '2025-06-27', '2025-06-29',\n",
       "               '2025-07-01', '2025-07-03'],\n",
       "              dtype='datetime64[ns]', length=183, freq='2D')"
      ]
     },
     "execution_count": 15,
     "metadata": {},
     "output_type": "execute_result"
    }
   ],
   "source": [
    "pd.date_range(start = '2024/07/04', end = '2025/07/04' , freq = '2d')"
   ]
  },
  {
   "cell_type": "code",
   "execution_count": 18,
   "id": "57550b3c-0953-43f8-852f-86d87ab065d3",
   "metadata": {},
   "outputs": [
    {
     "data": {
      "text/plain": [
       "DatetimeIndex([          '2024-07-04 00:00:00',\n",
       "               '2024-08-06 04:21:49.090909091',\n",
       "               '2024-09-08 08:43:38.181818182',\n",
       "               '2024-10-11 13:05:27.272727273',\n",
       "               '2024-11-13 17:27:16.363636364',\n",
       "               '2024-12-16 21:49:05.454545456',\n",
       "               '2025-01-19 02:10:54.545454546',\n",
       "               '2025-02-21 06:32:43.636363636',\n",
       "               '2025-03-26 10:54:32.727272728',\n",
       "               '2025-04-28 15:16:21.818181820',\n",
       "               '2025-05-31 19:38:10.909090912',\n",
       "                         '2025-07-04 00:00:00'],\n",
       "              dtype='datetime64[ns]', freq=None)"
      ]
     },
     "execution_count": 18,
     "metadata": {},
     "output_type": "execute_result"
    }
   ],
   "source": [
    "pd.date_range(start = '2024/07/04', end = '2025/07/04' , periods = 12)  # 12 equal parts me divide"
   ]
  },
  {
   "cell_type": "code",
   "execution_count": null,
   "id": "a2cf13ae-b9f9-4c49-b9e9-9f393def3641",
   "metadata": {},
   "outputs": [],
   "source": []
  }
 ],
 "metadata": {
  "kernelspec": {
   "display_name": "Python 3 (ipykernel)",
   "language": "python",
   "name": "python3"
  },
  "language_info": {
   "codemirror_mode": {
    "name": "ipython",
    "version": 3
   },
   "file_extension": ".py",
   "mimetype": "text/x-python",
   "name": "python",
   "nbconvert_exporter": "python",
   "pygments_lexer": "ipython3",
   "version": "3.11.7"
  }
 },
 "nbformat": 4,
 "nbformat_minor": 5
}
